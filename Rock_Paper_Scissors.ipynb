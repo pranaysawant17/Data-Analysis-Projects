{
  "nbformat": 4,
  "nbformat_minor": 0,
  "metadata": {
    "colab": {
      "name": "Rock Paper Scissors.ipynb",
      "provenance": [],
      "collapsed_sections": [],
      "authorship_tag": "ABX9TyMqUlOjUw8IYY39boOvtIcl",
      "include_colab_link": true
    },
    "kernelspec": {
      "name": "python3",
      "display_name": "Python 3"
    },
    "language_info": {
      "name": "python"
    }
  },
  "cells": [
    {
      "cell_type": "markdown",
      "metadata": {
        "id": "view-in-github",
        "colab_type": "text"
      },
      "source": [
        "<a href=\"https://colab.research.google.com/github/pranaysawant17/Python-Projects/blob/main/Rock_Paper_Scissors.ipynb\" target=\"_parent\"><img src=\"https://colab.research.google.com/assets/colab-badge.svg\" alt=\"Open In Colab\"/></a>"
      ]
    },
    {
      "cell_type": "markdown",
      "metadata": {
        "id": "sU0828Q1mE1q"
      },
      "source": [
        "Project 2: Rock Paper Scissors\n",
        "\n"
      ]
    },
    {
      "cell_type": "code",
      "metadata": {
        "id": "OIM8SWe86_2B"
      },
      "source": [
        "import random"
      ],
      "execution_count": null,
      "outputs": []
    },
    {
      "cell_type": "code",
      "metadata": {
        "id": "obIATDML7BNS",
        "colab": {
          "base_uri": "https://localhost:8080/"
        },
        "outputId": "76020817-ea17-4b13-f69f-e26cc53daec3"
      },
      "source": [
        "comp_cnt=0\n",
        "player_cnt=0\n",
        "while True:\n",
        "    rps=[\"Rock\", \"Paper\", \"Scissors\"] #Defining Computer Choices\n",
        "    ip=input(\"Please select from Rock, Paper, Scissors:\") #Defining Input Choices\n",
        "    random_num = random.choice(rps)\n",
        "    \n",
        "    print(\"\\n--------Results-----------\\n\")\n",
        "    # Defining winning or losing conditins\n",
        " \n",
        "    if random_num == ip:\n",
        "       print(\"its a Tie\\n Try Again\")\n",
        "       print(\"\\n Player Total Wins\",player_cnt)\n",
        "       print(\"\\n Computer Total Wins\",comp_cnt)\n",
        "    elif random_num==\"Rock\" and ip==\"Paper\":\n",
        "       player_cnt=player_cnt+1\n",
        "       print(\"You Won!!! \\n Computer Choice:\", random_num)\n",
        "       print(\"\\n Player Total Wins\",player_cnt)\n",
        "       print(\"\\n Computer Total Wins\",comp_cnt)\n",
        "    elif random_num==\"Rock\" and ip==\"Scissors\":\n",
        "       comp_cnt=comp_cnt+1\n",
        "       print(\"You Lost\\n Computer Choice:\", random_num)\n",
        "       print(\"\\n Player Total Wins\",player_cnt)\n",
        "       print(\"\\n Computer Total Wins\",comp_cnt)\n",
        "    elif random_num==\"Paper\" and ip==\"Rock\":\n",
        "       comp_cnt=comp_cnt+1\n",
        "       print(\"You Lost \\n Computer Choice:\", random_num)\n",
        "       print(\"\\n Player Total Wins\",player_cnt)\n",
        "       print(\"\\n Computer Total Wins\",comp_cnt)\n",
        "    elif random_num==\"Paper\" and ip==\"Scissors\":\n",
        "       player_cnt=player_cnt+1\n",
        "       print(\"You Won!!! \\n Computer Choice:\", random_num)\n",
        "       print(\"\\n Player Total Wins\",player_cnt)\n",
        "       print(\"\\n Computer Total Wins\",comp_cnt)\n",
        "    elif random_num==\"Scissors\" and ip==\"Paper\":\n",
        "       comp_cnt=comp_cnt+1\n",
        "       print(\"You Lost \\n Computer Choice:\", random_num)\n",
        "       print(\"\\n Player Total Wins\",player_cnt)\n",
        "       print(\"\\n Computer Total Wins\",comp_cnt)\n",
        "    elif random_num==\"Scissors\" and ip==\"Rock\":\n",
        "       player_cnt=player_cnt+1\n",
        "       print(\"You Won!!! \\n Computer Choice:\", random_num)\n",
        "       print(\"\\n Player Total Wins\",player_cnt)\n",
        "       print(\"\\n Computer Total Wins\",comp_cnt)\n",
        "    else:\n",
        "       print(\"Wrong Input Please try again\")\n",
        " \n",
        "    cont=input(\"\\n Do you want to continue? Select Y or N: \") #If player wants to continue\n",
        " \n",
        "    if cont == \"Y\":\n",
        "       continue\n",
        "    else:\n",
        "        print(\"\\n-------Final Result-----\\n\")\n",
        "        if comp_cnt > player_cnt:\n",
        "          print(\"\\n Computer Wins\")\n",
        "        elif comp_cnt==player_cnt:\n",
        "          print(\"\\n Match Tied\")\n",
        "        else:\n",
        "          print(\"\\n Player Wins\")\n",
        "        break"
      ],
      "execution_count": null,
      "outputs": [
        {
          "output_type": "stream",
          "name": "stdout",
          "text": [
            "Please select from Rock, Paper, Scissors:Rock\n",
            "\n",
            "--------Results-----------\n",
            "\n",
            "You Won!!! \n",
            " Computer Choice: Scissors\n",
            "\n",
            " Player Total Wins 1\n",
            "\n",
            " Computer Total Wins 0\n",
            "\n",
            " Do you want to continue? Select Y or N: Y\n",
            "Please select from Rock, Paper, Scissors:Paper\n",
            "\n",
            "--------Results-----------\n",
            "\n",
            "You Won!!! \n",
            " Computer Choice: Rock\n",
            "\n",
            " Player Total Wins 2\n",
            "\n",
            " Computer Total Wins 0\n",
            "\n",
            " Do you want to continue? Select Y or N: Y\n",
            "Please select from Rock, Paper, Scissors:Paper\n",
            "\n",
            "--------Results-----------\n",
            "\n",
            "its a Tie\n",
            " Try Again\n",
            "\n",
            " Player Total Wins 2\n",
            "\n",
            " Computer Total Wins 0\n",
            "\n",
            " Do you want to continue? Select Y or N: Y\n",
            "Please select from Rock, Paper, Scissors:Paper\n",
            "\n",
            "--------Results-----------\n",
            "\n",
            "You Lost \n",
            " Computer Choice: Scissors\n",
            "\n",
            " Player Total Wins 2\n",
            "\n",
            " Computer Total Wins 1\n",
            "\n",
            " Do you want to continue? Select Y or N: Y\n",
            "Please select from Rock, Paper, Scissors:Paper\n",
            "\n",
            "--------Results-----------\n",
            "\n",
            "You Won!!! \n",
            " Computer Choice: Rock\n",
            "\n",
            " Player Total Wins 3\n",
            "\n",
            " Computer Total Wins 1\n",
            "\n",
            " Do you want to continue? Select Y or N: N\n",
            "\n",
            "-------Final Result-----\n",
            "\n",
            "\n",
            " Player Wins\n"
          ]
        }
      ]
    }
  ]
}