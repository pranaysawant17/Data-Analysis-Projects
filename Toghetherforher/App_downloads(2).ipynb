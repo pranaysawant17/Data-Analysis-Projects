{
  "nbformat": 4,
  "nbformat_minor": 0,
  "metadata": {
    "colab": {
      "name": "App downloads.ipynb",
      "provenance": [],
      "collapsed_sections": []
    },
    "kernelspec": {
      "name": "python3",
      "display_name": "Python 3"
    },
    "language_info": {
      "name": "python"
    }
  },
  "cells": [
    {
      "cell_type": "markdown",
      "source": [
        "# Exploratory Data Analysis of Togetherforher App\n",
        "\n",
        "\n",
        "\n"
      ],
      "metadata": {
        "id": "gQ4KzWCi9qBO"
      }
    },
    {
      "cell_type": "markdown",
      "source": [
        "About the app\n",
        "\n",
        "Care program: https://www.togetherforher.com/\n",
        "\n",
        "The mobile app provides content and information to pregnant women who can take better self-care after consuming the content. The app also allows other features such as tracking their health. \n",
        "\n",
        "About the data\n",
        "\n",
        "There are two sources of data:\n",
        "\n",
        "1.\tFirebase events data:\n",
        "Log of all the events triggered by the app user \n",
        "2.\tForms submissions Data collected by our Saas platform (HealthMachineTM) . This contains the quiz and health tracking information\n"
      ],
      "metadata": {
        "id": "_N5IS6YK9_ur"
      }
    },
    {
      "cell_type": "markdown",
      "source": [
        "## Importing Important Libraries"
      ],
      "metadata": {
        "id": "pR-84-NGfnZP"
      }
    },
    {
      "cell_type": "code",
      "execution_count": 1,
      "metadata": {
        "id": "vmzSdosOlu5V"
      },
      "outputs": [],
      "source": [
        "import pandas as pd\n",
        "import numpy as np\n",
        "import matplotlib.pyplot as plt\n",
        "import seaborn as sns\n",
        "%matplotlib inline"
      ]
    },
    {
      "cell_type": "markdown",
      "source": [
        "## Loading Datasets"
      ],
      "metadata": {
        "id": "Hd17EcHtgJDx"
      }
    },
    {
      "cell_type": "markdown",
      "source": [
        "For analysis we are loading two datasets as follows:\n",
        "\n",
        "1) patient_app_download_status_v2 : This contains data on app downloads.\n",
        "\n",
        "2) tfh_geographics_data(1): This dataset contains info on geographical data of users."
      ],
      "metadata": {
        "id": "baFyPtjvgmnI"
      }
    },
    {
      "cell_type": "code",
      "source": [
        "df = pd.read_csv(\"/content/drive/MyDrive/Form Submissions/patient_app_download_status_v2.csv\")\n",
        "df.head()"
      ],
      "metadata": {
        "colab": {
          "base_uri": "https://localhost:8080/",
          "height": 357
        },
        "id": "J_3HdmspnbuV",
        "outputId": "1bc1e593-6f21-40d8-c33f-309ed402f9ba"
      },
      "execution_count": 2,
      "outputs": [
        {
          "output_type": "execute_result",
          "data": {
            "text/html": [
              "\n",
              "  <div id=\"df-eea79497-12d5-490c-82ac-0679725b5446\">\n",
              "    <div class=\"colab-df-container\">\n",
              "      <div>\n",
              "<style scoped>\n",
              "    .dataframe tbody tr th:only-of-type {\n",
              "        vertical-align: middle;\n",
              "    }\n",
              "\n",
              "    .dataframe tbody tr th {\n",
              "        vertical-align: top;\n",
              "    }\n",
              "\n",
              "    .dataframe thead th {\n",
              "        text-align: right;\n",
              "    }\n",
              "</style>\n",
              "<table border=\"1\" class=\"dataframe\">\n",
              "  <thead>\n",
              "    <tr style=\"text-align: right;\">\n",
              "      <th></th>\n",
              "      <th>id</th>\n",
              "      <th>form_code</th>\n",
              "      <th>root_org_id</th>\n",
              "      <th>created_at</th>\n",
              "      <th>updated_at</th>\n",
              "      <th>deleted_at</th>\n",
              "      <th>submitted_at</th>\n",
              "      <th>is_draft</th>\n",
              "      <th>submitted_by_id</th>\n",
              "      <th>activity_id</th>\n",
              "      <th>target_id</th>\n",
              "      <th>target_type</th>\n",
              "      <th>readable_id</th>\n",
              "      <th>episode_of_care_id</th>\n",
              "      <th>source</th>\n",
              "      <th>app_version</th>\n",
              "      <th>platform_os</th>\n",
              "      <th>app_install_date</th>\n",
              "      <th>last_accessed_date</th>\n",
              "    </tr>\n",
              "  </thead>\n",
              "  <tbody>\n",
              "    <tr>\n",
              "      <th>0</th>\n",
              "      <td>141206</td>\n",
              "      <td>dm_form_992_2</td>\n",
              "      <td>1140</td>\n",
              "      <td>2020-10-01 06:42:50.789101</td>\n",
              "      <td>2020-10-01 06:42:50.789101</td>\n",
              "      <td>NaN</td>\n",
              "      <td>2020-10-01 06:42:50.772489</td>\n",
              "      <td>False</td>\n",
              "      <td>30372</td>\n",
              "      <td>NaN</td>\n",
              "      <td>259295</td>\n",
              "      <td>Patient</td>\n",
              "      <td>ZY6-ALB</td>\n",
              "      <td>NaN</td>\n",
              "      <td>health_machine</td>\n",
              "      <td>NaN</td>\n",
              "      <td>NaN</td>\n",
              "      <td>2020-08-14 17:52:25.848</td>\n",
              "      <td>2020-10-01 12:30:51.892</td>\n",
              "    </tr>\n",
              "    <tr>\n",
              "      <th>1</th>\n",
              "      <td>141445</td>\n",
              "      <td>dm_form_992_2</td>\n",
              "      <td>1140</td>\n",
              "      <td>2020-10-01 12:23:33.712123</td>\n",
              "      <td>2020-10-01 12:23:33.712123</td>\n",
              "      <td>NaN</td>\n",
              "      <td>2020-10-01 12:23:33.574235</td>\n",
              "      <td>False</td>\n",
              "      <td>30355</td>\n",
              "      <td>NaN</td>\n",
              "      <td>258944</td>\n",
              "      <td>Patient</td>\n",
              "      <td>Q57-7NU</td>\n",
              "      <td>NaN</td>\n",
              "      <td>health_machine</td>\n",
              "      <td>NaN</td>\n",
              "      <td>NaN</td>\n",
              "      <td>2020-08-13 16:44:18.459</td>\n",
              "      <td>2020-10-01 17:53:31.702</td>\n",
              "    </tr>\n",
              "    <tr>\n",
              "      <th>2</th>\n",
              "      <td>141476</td>\n",
              "      <td>dm_form_992_2</td>\n",
              "      <td>1140</td>\n",
              "      <td>2020-10-01 12:41:23.312919</td>\n",
              "      <td>2020-10-01 12:41:23.312919</td>\n",
              "      <td>NaN</td>\n",
              "      <td>2020-10-01 12:41:23.299099</td>\n",
              "      <td>False</td>\n",
              "      <td>30013</td>\n",
              "      <td>NaN</td>\n",
              "      <td>256599</td>\n",
              "      <td>Patient</td>\n",
              "      <td>MA8-PEN</td>\n",
              "      <td>NaN</td>\n",
              "      <td>health_machine</td>\n",
              "      <td>NaN</td>\n",
              "      <td>NaN</td>\n",
              "      <td>2020-07-01 18:36:48.985</td>\n",
              "      <td>2020-10-01 18:11:22.425</td>\n",
              "    </tr>\n",
              "    <tr>\n",
              "      <th>3</th>\n",
              "      <td>141527</td>\n",
              "      <td>dm_form_992_2</td>\n",
              "      <td>1140</td>\n",
              "      <td>2020-10-01 13:37:49.446179</td>\n",
              "      <td>2020-10-01 13:37:49.446179</td>\n",
              "      <td>NaN</td>\n",
              "      <td>2020-10-01 13:37:49.428142</td>\n",
              "      <td>False</td>\n",
              "      <td>30511</td>\n",
              "      <td>NaN</td>\n",
              "      <td>255944</td>\n",
              "      <td>Patient</td>\n",
              "      <td>R3M-BXW</td>\n",
              "      <td>NaN</td>\n",
              "      <td>health_machine</td>\n",
              "      <td>1.7</td>\n",
              "      <td>android</td>\n",
              "      <td>2020-10-01 17:10:20.619</td>\n",
              "      <td>2020-10-01 19:07:46.704</td>\n",
              "    </tr>\n",
              "    <tr>\n",
              "      <th>4</th>\n",
              "      <td>143010</td>\n",
              "      <td>dm_form_992_2</td>\n",
              "      <td>1140</td>\n",
              "      <td>2020-10-06 09:37:29.465205</td>\n",
              "      <td>2020-10-06 09:37:29.465205</td>\n",
              "      <td>NaN</td>\n",
              "      <td>2020-10-06 09:37:29.292756</td>\n",
              "      <td>False</td>\n",
              "      <td>30274</td>\n",
              "      <td>NaN</td>\n",
              "      <td>259034</td>\n",
              "      <td>Patient</td>\n",
              "      <td>IRJ-H6X</td>\n",
              "      <td>NaN</td>\n",
              "      <td>health_machine</td>\n",
              "      <td>NaN</td>\n",
              "      <td>NaN</td>\n",
              "      <td>2020-08-05 21:17:11.582</td>\n",
              "      <td>2020-10-06 15:07:27.799</td>\n",
              "    </tr>\n",
              "  </tbody>\n",
              "</table>\n",
              "</div>\n",
              "      <button class=\"colab-df-convert\" onclick=\"convertToInteractive('df-eea79497-12d5-490c-82ac-0679725b5446')\"\n",
              "              title=\"Convert this dataframe to an interactive table.\"\n",
              "              style=\"display:none;\">\n",
              "        \n",
              "  <svg xmlns=\"http://www.w3.org/2000/svg\" height=\"24px\"viewBox=\"0 0 24 24\"\n",
              "       width=\"24px\">\n",
              "    <path d=\"M0 0h24v24H0V0z\" fill=\"none\"/>\n",
              "    <path d=\"M18.56 5.44l.94 2.06.94-2.06 2.06-.94-2.06-.94-.94-2.06-.94 2.06-2.06.94zm-11 1L8.5 8.5l.94-2.06 2.06-.94-2.06-.94L8.5 2.5l-.94 2.06-2.06.94zm10 10l.94 2.06.94-2.06 2.06-.94-2.06-.94-.94-2.06-.94 2.06-2.06.94z\"/><path d=\"M17.41 7.96l-1.37-1.37c-.4-.4-.92-.59-1.43-.59-.52 0-1.04.2-1.43.59L10.3 9.45l-7.72 7.72c-.78.78-.78 2.05 0 2.83L4 21.41c.39.39.9.59 1.41.59.51 0 1.02-.2 1.41-.59l7.78-7.78 2.81-2.81c.8-.78.8-2.07 0-2.86zM5.41 20L4 18.59l7.72-7.72 1.47 1.35L5.41 20z\"/>\n",
              "  </svg>\n",
              "      </button>\n",
              "      \n",
              "  <style>\n",
              "    .colab-df-container {\n",
              "      display:flex;\n",
              "      flex-wrap:wrap;\n",
              "      gap: 12px;\n",
              "    }\n",
              "\n",
              "    .colab-df-convert {\n",
              "      background-color: #E8F0FE;\n",
              "      border: none;\n",
              "      border-radius: 50%;\n",
              "      cursor: pointer;\n",
              "      display: none;\n",
              "      fill: #1967D2;\n",
              "      height: 32px;\n",
              "      padding: 0 0 0 0;\n",
              "      width: 32px;\n",
              "    }\n",
              "\n",
              "    .colab-df-convert:hover {\n",
              "      background-color: #E2EBFA;\n",
              "      box-shadow: 0px 1px 2px rgba(60, 64, 67, 0.3), 0px 1px 3px 1px rgba(60, 64, 67, 0.15);\n",
              "      fill: #174EA6;\n",
              "    }\n",
              "\n",
              "    [theme=dark] .colab-df-convert {\n",
              "      background-color: #3B4455;\n",
              "      fill: #D2E3FC;\n",
              "    }\n",
              "\n",
              "    [theme=dark] .colab-df-convert:hover {\n",
              "      background-color: #434B5C;\n",
              "      box-shadow: 0px 1px 3px 1px rgba(0, 0, 0, 0.15);\n",
              "      filter: drop-shadow(0px 1px 2px rgba(0, 0, 0, 0.3));\n",
              "      fill: #FFFFFF;\n",
              "    }\n",
              "  </style>\n",
              "\n",
              "      <script>\n",
              "        const buttonEl =\n",
              "          document.querySelector('#df-eea79497-12d5-490c-82ac-0679725b5446 button.colab-df-convert');\n",
              "        buttonEl.style.display =\n",
              "          google.colab.kernel.accessAllowed ? 'block' : 'none';\n",
              "\n",
              "        async function convertToInteractive(key) {\n",
              "          const element = document.querySelector('#df-eea79497-12d5-490c-82ac-0679725b5446');\n",
              "          const dataTable =\n",
              "            await google.colab.kernel.invokeFunction('convertToInteractive',\n",
              "                                                     [key], {});\n",
              "          if (!dataTable) return;\n",
              "\n",
              "          const docLinkHtml = 'Like what you see? Visit the ' +\n",
              "            '<a target=\"_blank\" href=https://colab.research.google.com/notebooks/data_table.ipynb>data table notebook</a>'\n",
              "            + ' to learn more about interactive tables.';\n",
              "          element.innerHTML = '';\n",
              "          dataTable['output_type'] = 'display_data';\n",
              "          await google.colab.output.renderOutput(dataTable, element);\n",
              "          const docLink = document.createElement('div');\n",
              "          docLink.innerHTML = docLinkHtml;\n",
              "          element.appendChild(docLink);\n",
              "        }\n",
              "      </script>\n",
              "    </div>\n",
              "  </div>\n",
              "  "
            ],
            "text/plain": [
              "       id      form_code  root_org_id                  created_at  \\\n",
              "0  141206  dm_form_992_2         1140  2020-10-01 06:42:50.789101   \n",
              "1  141445  dm_form_992_2         1140  2020-10-01 12:23:33.712123   \n",
              "2  141476  dm_form_992_2         1140  2020-10-01 12:41:23.312919   \n",
              "3  141527  dm_form_992_2         1140  2020-10-01 13:37:49.446179   \n",
              "4  143010  dm_form_992_2         1140  2020-10-06 09:37:29.465205   \n",
              "\n",
              "                   updated_at  deleted_at                submitted_at  \\\n",
              "0  2020-10-01 06:42:50.789101         NaN  2020-10-01 06:42:50.772489   \n",
              "1  2020-10-01 12:23:33.712123         NaN  2020-10-01 12:23:33.574235   \n",
              "2  2020-10-01 12:41:23.312919         NaN  2020-10-01 12:41:23.299099   \n",
              "3  2020-10-01 13:37:49.446179         NaN  2020-10-01 13:37:49.428142   \n",
              "4  2020-10-06 09:37:29.465205         NaN  2020-10-06 09:37:29.292756   \n",
              "\n",
              "   is_draft  submitted_by_id  activity_id  target_id target_type readable_id  \\\n",
              "0     False            30372          NaN     259295     Patient     ZY6-ALB   \n",
              "1     False            30355          NaN     258944     Patient     Q57-7NU   \n",
              "2     False            30013          NaN     256599     Patient     MA8-PEN   \n",
              "3     False            30511          NaN     255944     Patient     R3M-BXW   \n",
              "4     False            30274          NaN     259034     Patient     IRJ-H6X   \n",
              "\n",
              "   episode_of_care_id          source  app_version platform_os  \\\n",
              "0                 NaN  health_machine          NaN         NaN   \n",
              "1                 NaN  health_machine          NaN         NaN   \n",
              "2                 NaN  health_machine          NaN         NaN   \n",
              "3                 NaN  health_machine          1.7     android   \n",
              "4                 NaN  health_machine          NaN         NaN   \n",
              "\n",
              "          app_install_date       last_accessed_date  \n",
              "0  2020-08-14 17:52:25.848  2020-10-01 12:30:51.892  \n",
              "1  2020-08-13 16:44:18.459  2020-10-01 17:53:31.702  \n",
              "2  2020-07-01 18:36:48.985  2020-10-01 18:11:22.425  \n",
              "3  2020-10-01 17:10:20.619  2020-10-01 19:07:46.704  \n",
              "4  2020-08-05 21:17:11.582  2020-10-06 15:07:27.799  "
            ]
          },
          "metadata": {},
          "execution_count": 2
        }
      ]
    },
    {
      "cell_type": "code",
      "source": [
        "df1= pd.read_csv(\"/content/drive/MyDrive/Data USer ID/tfh_geographics_data(1).csv\")\n",
        "df1.head()"
      ],
      "metadata": {
        "colab": {
          "base_uri": "https://localhost:8080/",
          "height": 206
        },
        "id": "eu_bx_l6HcJ9",
        "outputId": "2005e716-e7d7-4de2-9ae9-3ba7acc6cf1c"
      },
      "execution_count": 3,
      "outputs": [
        {
          "output_type": "execute_result",
          "data": {
            "text/html": [
              "\n",
              "  <div id=\"df-aa7f5846-28f5-43be-bd27-ef9cd03e6024\">\n",
              "    <div class=\"colab-df-container\">\n",
              "      <div>\n",
              "<style scoped>\n",
              "    .dataframe tbody tr th:only-of-type {\n",
              "        vertical-align: middle;\n",
              "    }\n",
              "\n",
              "    .dataframe tbody tr th {\n",
              "        vertical-align: top;\n",
              "    }\n",
              "\n",
              "    .dataframe thead th {\n",
              "        text-align: right;\n",
              "    }\n",
              "</style>\n",
              "<table border=\"1\" class=\"dataframe\">\n",
              "  <thead>\n",
              "    <tr style=\"text-align: right;\">\n",
              "      <th></th>\n",
              "      <th>user_id</th>\n",
              "      <th>city</th>\n",
              "      <th>country</th>\n",
              "      <th>region</th>\n",
              "    </tr>\n",
              "  </thead>\n",
              "  <tbody>\n",
              "    <tr>\n",
              "      <th>0</th>\n",
              "      <td>30100</td>\n",
              "      <td>Gurgaon</td>\n",
              "      <td>India</td>\n",
              "      <td>Haryana</td>\n",
              "    </tr>\n",
              "    <tr>\n",
              "      <th>1</th>\n",
              "      <td>30100</td>\n",
              "      <td>Sonipat</td>\n",
              "      <td>India</td>\n",
              "      <td>Haryana</td>\n",
              "    </tr>\n",
              "    <tr>\n",
              "      <th>2</th>\n",
              "      <td>30145</td>\n",
              "      <td>Meerut</td>\n",
              "      <td>India</td>\n",
              "      <td>Uttar Pradesh</td>\n",
              "    </tr>\n",
              "    <tr>\n",
              "      <th>3</th>\n",
              "      <td>30271</td>\n",
              "      <td>Indore</td>\n",
              "      <td>India</td>\n",
              "      <td>Madhya Pradesh</td>\n",
              "    </tr>\n",
              "    <tr>\n",
              "      <th>4</th>\n",
              "      <td>30836</td>\n",
              "      <td>Pune</td>\n",
              "      <td>India</td>\n",
              "      <td>Maharashtra</td>\n",
              "    </tr>\n",
              "  </tbody>\n",
              "</table>\n",
              "</div>\n",
              "      <button class=\"colab-df-convert\" onclick=\"convertToInteractive('df-aa7f5846-28f5-43be-bd27-ef9cd03e6024')\"\n",
              "              title=\"Convert this dataframe to an interactive table.\"\n",
              "              style=\"display:none;\">\n",
              "        \n",
              "  <svg xmlns=\"http://www.w3.org/2000/svg\" height=\"24px\"viewBox=\"0 0 24 24\"\n",
              "       width=\"24px\">\n",
              "    <path d=\"M0 0h24v24H0V0z\" fill=\"none\"/>\n",
              "    <path d=\"M18.56 5.44l.94 2.06.94-2.06 2.06-.94-2.06-.94-.94-2.06-.94 2.06-2.06.94zm-11 1L8.5 8.5l.94-2.06 2.06-.94-2.06-.94L8.5 2.5l-.94 2.06-2.06.94zm10 10l.94 2.06.94-2.06 2.06-.94-2.06-.94-.94-2.06-.94 2.06-2.06.94z\"/><path d=\"M17.41 7.96l-1.37-1.37c-.4-.4-.92-.59-1.43-.59-.52 0-1.04.2-1.43.59L10.3 9.45l-7.72 7.72c-.78.78-.78 2.05 0 2.83L4 21.41c.39.39.9.59 1.41.59.51 0 1.02-.2 1.41-.59l7.78-7.78 2.81-2.81c.8-.78.8-2.07 0-2.86zM5.41 20L4 18.59l7.72-7.72 1.47 1.35L5.41 20z\"/>\n",
              "  </svg>\n",
              "      </button>\n",
              "      \n",
              "  <style>\n",
              "    .colab-df-container {\n",
              "      display:flex;\n",
              "      flex-wrap:wrap;\n",
              "      gap: 12px;\n",
              "    }\n",
              "\n",
              "    .colab-df-convert {\n",
              "      background-color: #E8F0FE;\n",
              "      border: none;\n",
              "      border-radius: 50%;\n",
              "      cursor: pointer;\n",
              "      display: none;\n",
              "      fill: #1967D2;\n",
              "      height: 32px;\n",
              "      padding: 0 0 0 0;\n",
              "      width: 32px;\n",
              "    }\n",
              "\n",
              "    .colab-df-convert:hover {\n",
              "      background-color: #E2EBFA;\n",
              "      box-shadow: 0px 1px 2px rgba(60, 64, 67, 0.3), 0px 1px 3px 1px rgba(60, 64, 67, 0.15);\n",
              "      fill: #174EA6;\n",
              "    }\n",
              "\n",
              "    [theme=dark] .colab-df-convert {\n",
              "      background-color: #3B4455;\n",
              "      fill: #D2E3FC;\n",
              "    }\n",
              "\n",
              "    [theme=dark] .colab-df-convert:hover {\n",
              "      background-color: #434B5C;\n",
              "      box-shadow: 0px 1px 3px 1px rgba(0, 0, 0, 0.15);\n",
              "      filter: drop-shadow(0px 1px 2px rgba(0, 0, 0, 0.3));\n",
              "      fill: #FFFFFF;\n",
              "    }\n",
              "  </style>\n",
              "\n",
              "      <script>\n",
              "        const buttonEl =\n",
              "          document.querySelector('#df-aa7f5846-28f5-43be-bd27-ef9cd03e6024 button.colab-df-convert');\n",
              "        buttonEl.style.display =\n",
              "          google.colab.kernel.accessAllowed ? 'block' : 'none';\n",
              "\n",
              "        async function convertToInteractive(key) {\n",
              "          const element = document.querySelector('#df-aa7f5846-28f5-43be-bd27-ef9cd03e6024');\n",
              "          const dataTable =\n",
              "            await google.colab.kernel.invokeFunction('convertToInteractive',\n",
              "                                                     [key], {});\n",
              "          if (!dataTable) return;\n",
              "\n",
              "          const docLinkHtml = 'Like what you see? Visit the ' +\n",
              "            '<a target=\"_blank\" href=https://colab.research.google.com/notebooks/data_table.ipynb>data table notebook</a>'\n",
              "            + ' to learn more about interactive tables.';\n",
              "          element.innerHTML = '';\n",
              "          dataTable['output_type'] = 'display_data';\n",
              "          await google.colab.output.renderOutput(dataTable, element);\n",
              "          const docLink = document.createElement('div');\n",
              "          docLink.innerHTML = docLinkHtml;\n",
              "          element.appendChild(docLink);\n",
              "        }\n",
              "      </script>\n",
              "    </div>\n",
              "  </div>\n",
              "  "
            ],
            "text/plain": [
              "   user_id     city country          region\n",
              "0    30100  Gurgaon   India         Haryana\n",
              "1    30100  Sonipat   India         Haryana\n",
              "2    30145   Meerut   India   Uttar Pradesh\n",
              "3    30271   Indore   India  Madhya Pradesh\n",
              "4    30836     Pune   India     Maharashtra"
            ]
          },
          "metadata": {},
          "execution_count": 3
        }
      ]
    },
    {
      "cell_type": "markdown",
      "source": [
        "Geographics data contain multiple locations for same user. We will for this analysis will consider only fisrt entry."
      ],
      "metadata": {
        "id": "doNBP278hXbf"
      }
    },
    {
      "cell_type": "markdown",
      "source": [
        "### Droping duplicates value of multiple entries for users"
      ],
      "metadata": {
        "id": "fIyQQvwghpTW"
      }
    },
    {
      "cell_type": "code",
      "source": [
        "df1=df1.drop_duplicates(subset=['user_id'])"
      ],
      "metadata": {
        "id": "19NVbL-VgSTd"
      },
      "execution_count": 4,
      "outputs": []
    },
    {
      "cell_type": "markdown",
      "source": [
        "### Merging Datasets"
      ],
      "metadata": {
        "id": "chTs7lCah18V"
      }
    },
    {
      "cell_type": "code",
      "source": [
        "df= pd.merge(df,df1,left_on='submitted_by_id', right_on='user_id')\n",
        "df.head()"
      ],
      "metadata": {
        "colab": {
          "base_uri": "https://localhost:8080/",
          "height": 386
        },
        "id": "jT0rBVEVHuVF",
        "outputId": "2eb5f645-a19c-45b4-a294-7e11f3f8bce2"
      },
      "execution_count": 5,
      "outputs": [
        {
          "output_type": "execute_result",
          "data": {
            "text/html": [
              "\n",
              "  <div id=\"df-f17da5fb-bc30-477b-b426-c5d8ff8c767f\">\n",
              "    <div class=\"colab-df-container\">\n",
              "      <div>\n",
              "<style scoped>\n",
              "    .dataframe tbody tr th:only-of-type {\n",
              "        vertical-align: middle;\n",
              "    }\n",
              "\n",
              "    .dataframe tbody tr th {\n",
              "        vertical-align: top;\n",
              "    }\n",
              "\n",
              "    .dataframe thead th {\n",
              "        text-align: right;\n",
              "    }\n",
              "</style>\n",
              "<table border=\"1\" class=\"dataframe\">\n",
              "  <thead>\n",
              "    <tr style=\"text-align: right;\">\n",
              "      <th></th>\n",
              "      <th>id</th>\n",
              "      <th>form_code</th>\n",
              "      <th>root_org_id</th>\n",
              "      <th>created_at</th>\n",
              "      <th>updated_at</th>\n",
              "      <th>deleted_at</th>\n",
              "      <th>submitted_at</th>\n",
              "      <th>is_draft</th>\n",
              "      <th>submitted_by_id</th>\n",
              "      <th>activity_id</th>\n",
              "      <th>...</th>\n",
              "      <th>episode_of_care_id</th>\n",
              "      <th>source</th>\n",
              "      <th>app_version</th>\n",
              "      <th>platform_os</th>\n",
              "      <th>app_install_date</th>\n",
              "      <th>last_accessed_date</th>\n",
              "      <th>user_id</th>\n",
              "      <th>city</th>\n",
              "      <th>country</th>\n",
              "      <th>region</th>\n",
              "    </tr>\n",
              "  </thead>\n",
              "  <tbody>\n",
              "    <tr>\n",
              "      <th>0</th>\n",
              "      <td>141206</td>\n",
              "      <td>dm_form_992_2</td>\n",
              "      <td>1140</td>\n",
              "      <td>2020-10-01 06:42:50.789101</td>\n",
              "      <td>2020-10-01 06:42:50.789101</td>\n",
              "      <td>NaN</td>\n",
              "      <td>2020-10-01 06:42:50.772489</td>\n",
              "      <td>False</td>\n",
              "      <td>30372</td>\n",
              "      <td>NaN</td>\n",
              "      <td>...</td>\n",
              "      <td>NaN</td>\n",
              "      <td>health_machine</td>\n",
              "      <td>NaN</td>\n",
              "      <td>NaN</td>\n",
              "      <td>2020-08-14 17:52:25.848</td>\n",
              "      <td>2020-10-01 12:30:51.892</td>\n",
              "      <td>30372</td>\n",
              "      <td>Bhopal</td>\n",
              "      <td>India</td>\n",
              "      <td>Madhya Pradesh</td>\n",
              "    </tr>\n",
              "    <tr>\n",
              "      <th>1</th>\n",
              "      <td>141727</td>\n",
              "      <td>dm_form_992_2</td>\n",
              "      <td>1140</td>\n",
              "      <td>2020-10-02 04:34:37.128475</td>\n",
              "      <td>2020-10-02 04:34:37.128475</td>\n",
              "      <td>NaN</td>\n",
              "      <td>2020-10-02 04:34:37.116685</td>\n",
              "      <td>False</td>\n",
              "      <td>30372</td>\n",
              "      <td>NaN</td>\n",
              "      <td>...</td>\n",
              "      <td>NaN</td>\n",
              "      <td>health_machine</td>\n",
              "      <td>NaN</td>\n",
              "      <td>NaN</td>\n",
              "      <td>2020-08-14 17:52:25.848</td>\n",
              "      <td>2020-10-02 10:22:41.57</td>\n",
              "      <td>30372</td>\n",
              "      <td>Bhopal</td>\n",
              "      <td>India</td>\n",
              "      <td>Madhya Pradesh</td>\n",
              "    </tr>\n",
              "    <tr>\n",
              "      <th>2</th>\n",
              "      <td>150534</td>\n",
              "      <td>dm_form_992_2</td>\n",
              "      <td>1140</td>\n",
              "      <td>2020-10-21 17:59:12.93162</td>\n",
              "      <td>2020-10-21 17:59:12.93162</td>\n",
              "      <td>NaN</td>\n",
              "      <td>2020-10-21 17:59:12.876018</td>\n",
              "      <td>False</td>\n",
              "      <td>30372</td>\n",
              "      <td>NaN</td>\n",
              "      <td>...</td>\n",
              "      <td>NaN</td>\n",
              "      <td>health_machine</td>\n",
              "      <td>NaN</td>\n",
              "      <td>NaN</td>\n",
              "      <td>2020-08-14 17:52:25.848</td>\n",
              "      <td>2020-10-21 23:46:26.612</td>\n",
              "      <td>30372</td>\n",
              "      <td>Bhopal</td>\n",
              "      <td>India</td>\n",
              "      <td>Madhya Pradesh</td>\n",
              "    </tr>\n",
              "    <tr>\n",
              "      <th>3</th>\n",
              "      <td>150628</td>\n",
              "      <td>dm_form_992_2</td>\n",
              "      <td>1140</td>\n",
              "      <td>2020-10-22 07:05:25.455521</td>\n",
              "      <td>2020-10-22 07:05:25.455521</td>\n",
              "      <td>NaN</td>\n",
              "      <td>2020-10-22 07:05:25.436249</td>\n",
              "      <td>False</td>\n",
              "      <td>30372</td>\n",
              "      <td>NaN</td>\n",
              "      <td>...</td>\n",
              "      <td>NaN</td>\n",
              "      <td>health_machine</td>\n",
              "      <td>NaN</td>\n",
              "      <td>NaN</td>\n",
              "      <td>2020-08-14 17:52:25.848</td>\n",
              "      <td>2020-10-22 12:52:41.675</td>\n",
              "      <td>30372</td>\n",
              "      <td>Bhopal</td>\n",
              "      <td>India</td>\n",
              "      <td>Madhya Pradesh</td>\n",
              "    </tr>\n",
              "    <tr>\n",
              "      <th>4</th>\n",
              "      <td>151029</td>\n",
              "      <td>dm_form_992_2</td>\n",
              "      <td>1140</td>\n",
              "      <td>2020-10-23 05:57:33.844424</td>\n",
              "      <td>2020-10-23 05:57:33.844424</td>\n",
              "      <td>NaN</td>\n",
              "      <td>2020-10-23 05:57:33.816858</td>\n",
              "      <td>False</td>\n",
              "      <td>30372</td>\n",
              "      <td>NaN</td>\n",
              "      <td>...</td>\n",
              "      <td>NaN</td>\n",
              "      <td>health_machine</td>\n",
              "      <td>NaN</td>\n",
              "      <td>NaN</td>\n",
              "      <td>2020-08-14 17:52:25.848</td>\n",
              "      <td>2020-10-23 11:44:54.103</td>\n",
              "      <td>30372</td>\n",
              "      <td>Bhopal</td>\n",
              "      <td>India</td>\n",
              "      <td>Madhya Pradesh</td>\n",
              "    </tr>\n",
              "  </tbody>\n",
              "</table>\n",
              "<p>5 rows × 23 columns</p>\n",
              "</div>\n",
              "      <button class=\"colab-df-convert\" onclick=\"convertToInteractive('df-f17da5fb-bc30-477b-b426-c5d8ff8c767f')\"\n",
              "              title=\"Convert this dataframe to an interactive table.\"\n",
              "              style=\"display:none;\">\n",
              "        \n",
              "  <svg xmlns=\"http://www.w3.org/2000/svg\" height=\"24px\"viewBox=\"0 0 24 24\"\n",
              "       width=\"24px\">\n",
              "    <path d=\"M0 0h24v24H0V0z\" fill=\"none\"/>\n",
              "    <path d=\"M18.56 5.44l.94 2.06.94-2.06 2.06-.94-2.06-.94-.94-2.06-.94 2.06-2.06.94zm-11 1L8.5 8.5l.94-2.06 2.06-.94-2.06-.94L8.5 2.5l-.94 2.06-2.06.94zm10 10l.94 2.06.94-2.06 2.06-.94-2.06-.94-.94-2.06-.94 2.06-2.06.94z\"/><path d=\"M17.41 7.96l-1.37-1.37c-.4-.4-.92-.59-1.43-.59-.52 0-1.04.2-1.43.59L10.3 9.45l-7.72 7.72c-.78.78-.78 2.05 0 2.83L4 21.41c.39.39.9.59 1.41.59.51 0 1.02-.2 1.41-.59l7.78-7.78 2.81-2.81c.8-.78.8-2.07 0-2.86zM5.41 20L4 18.59l7.72-7.72 1.47 1.35L5.41 20z\"/>\n",
              "  </svg>\n",
              "      </button>\n",
              "      \n",
              "  <style>\n",
              "    .colab-df-container {\n",
              "      display:flex;\n",
              "      flex-wrap:wrap;\n",
              "      gap: 12px;\n",
              "    }\n",
              "\n",
              "    .colab-df-convert {\n",
              "      background-color: #E8F0FE;\n",
              "      border: none;\n",
              "      border-radius: 50%;\n",
              "      cursor: pointer;\n",
              "      display: none;\n",
              "      fill: #1967D2;\n",
              "      height: 32px;\n",
              "      padding: 0 0 0 0;\n",
              "      width: 32px;\n",
              "    }\n",
              "\n",
              "    .colab-df-convert:hover {\n",
              "      background-color: #E2EBFA;\n",
              "      box-shadow: 0px 1px 2px rgba(60, 64, 67, 0.3), 0px 1px 3px 1px rgba(60, 64, 67, 0.15);\n",
              "      fill: #174EA6;\n",
              "    }\n",
              "\n",
              "    [theme=dark] .colab-df-convert {\n",
              "      background-color: #3B4455;\n",
              "      fill: #D2E3FC;\n",
              "    }\n",
              "\n",
              "    [theme=dark] .colab-df-convert:hover {\n",
              "      background-color: #434B5C;\n",
              "      box-shadow: 0px 1px 3px 1px rgba(0, 0, 0, 0.15);\n",
              "      filter: drop-shadow(0px 1px 2px rgba(0, 0, 0, 0.3));\n",
              "      fill: #FFFFFF;\n",
              "    }\n",
              "  </style>\n",
              "\n",
              "      <script>\n",
              "        const buttonEl =\n",
              "          document.querySelector('#df-f17da5fb-bc30-477b-b426-c5d8ff8c767f button.colab-df-convert');\n",
              "        buttonEl.style.display =\n",
              "          google.colab.kernel.accessAllowed ? 'block' : 'none';\n",
              "\n",
              "        async function convertToInteractive(key) {\n",
              "          const element = document.querySelector('#df-f17da5fb-bc30-477b-b426-c5d8ff8c767f');\n",
              "          const dataTable =\n",
              "            await google.colab.kernel.invokeFunction('convertToInteractive',\n",
              "                                                     [key], {});\n",
              "          if (!dataTable) return;\n",
              "\n",
              "          const docLinkHtml = 'Like what you see? Visit the ' +\n",
              "            '<a target=\"_blank\" href=https://colab.research.google.com/notebooks/data_table.ipynb>data table notebook</a>'\n",
              "            + ' to learn more about interactive tables.';\n",
              "          element.innerHTML = '';\n",
              "          dataTable['output_type'] = 'display_data';\n",
              "          await google.colab.output.renderOutput(dataTable, element);\n",
              "          const docLink = document.createElement('div');\n",
              "          docLink.innerHTML = docLinkHtml;\n",
              "          element.appendChild(docLink);\n",
              "        }\n",
              "      </script>\n",
              "    </div>\n",
              "  </div>\n",
              "  "
            ],
            "text/plain": [
              "       id      form_code  root_org_id                  created_at  \\\n",
              "0  141206  dm_form_992_2         1140  2020-10-01 06:42:50.789101   \n",
              "1  141727  dm_form_992_2         1140  2020-10-02 04:34:37.128475   \n",
              "2  150534  dm_form_992_2         1140   2020-10-21 17:59:12.93162   \n",
              "3  150628  dm_form_992_2         1140  2020-10-22 07:05:25.455521   \n",
              "4  151029  dm_form_992_2         1140  2020-10-23 05:57:33.844424   \n",
              "\n",
              "                   updated_at  deleted_at                submitted_at  \\\n",
              "0  2020-10-01 06:42:50.789101         NaN  2020-10-01 06:42:50.772489   \n",
              "1  2020-10-02 04:34:37.128475         NaN  2020-10-02 04:34:37.116685   \n",
              "2   2020-10-21 17:59:12.93162         NaN  2020-10-21 17:59:12.876018   \n",
              "3  2020-10-22 07:05:25.455521         NaN  2020-10-22 07:05:25.436249   \n",
              "4  2020-10-23 05:57:33.844424         NaN  2020-10-23 05:57:33.816858   \n",
              "\n",
              "   is_draft  submitted_by_id  activity_id  ...  episode_of_care_id  \\\n",
              "0     False            30372          NaN  ...                 NaN   \n",
              "1     False            30372          NaN  ...                 NaN   \n",
              "2     False            30372          NaN  ...                 NaN   \n",
              "3     False            30372          NaN  ...                 NaN   \n",
              "4     False            30372          NaN  ...                 NaN   \n",
              "\n",
              "           source app_version  platform_os         app_install_date  \\\n",
              "0  health_machine         NaN          NaN  2020-08-14 17:52:25.848   \n",
              "1  health_machine         NaN          NaN  2020-08-14 17:52:25.848   \n",
              "2  health_machine         NaN          NaN  2020-08-14 17:52:25.848   \n",
              "3  health_machine         NaN          NaN  2020-08-14 17:52:25.848   \n",
              "4  health_machine         NaN          NaN  2020-08-14 17:52:25.848   \n",
              "\n",
              "        last_accessed_date user_id    city country          region  \n",
              "0  2020-10-01 12:30:51.892   30372  Bhopal   India  Madhya Pradesh  \n",
              "1   2020-10-02 10:22:41.57   30372  Bhopal   India  Madhya Pradesh  \n",
              "2  2020-10-21 23:46:26.612   30372  Bhopal   India  Madhya Pradesh  \n",
              "3  2020-10-22 12:52:41.675   30372  Bhopal   India  Madhya Pradesh  \n",
              "4  2020-10-23 11:44:54.103   30372  Bhopal   India  Madhya Pradesh  \n",
              "\n",
              "[5 rows x 23 columns]"
            ]
          },
          "metadata": {},
          "execution_count": 5
        }
      ]
    },
    {
      "cell_type": "markdown",
      "source": [
        "## Descriptive statistics"
      ],
      "metadata": {
        "id": "73vIDTW0ALkG"
      }
    },
    {
      "cell_type": "markdown",
      "source": [
        "### Number of rows and columns"
      ],
      "metadata": {
        "id": "cMCVTdoKiXdu"
      }
    },
    {
      "cell_type": "code",
      "source": [
        "print(\"Number of rows: \",df.shape[0] )\n",
        "print(\"Number of columns: \",df.shape[1] )"
      ],
      "metadata": {
        "colab": {
          "base_uri": "https://localhost:8080/"
        },
        "id": "QdvCbgmzLkRo",
        "outputId": "f1e875a9-df45-4158-a50b-7f8900203b97"
      },
      "execution_count": 6,
      "outputs": [
        {
          "output_type": "stream",
          "name": "stdout",
          "text": [
            "Number of rows:  25660\n",
            "Number of columns:  23\n"
          ]
        }
      ]
    },
    {
      "cell_type": "markdown",
      "source": [
        "### Information of data types and null values"
      ],
      "metadata": {
        "id": "mQKnBzm3OYv_"
      }
    },
    {
      "cell_type": "code",
      "source": [
        "df.info()"
      ],
      "metadata": {
        "colab": {
          "base_uri": "https://localhost:8080/"
        },
        "id": "bau8GqGbMQmx",
        "outputId": "e3ea0882-4dee-4541-aeae-a0cdd1719e0c"
      },
      "execution_count": 7,
      "outputs": [
        {
          "output_type": "stream",
          "name": "stdout",
          "text": [
            "<class 'pandas.core.frame.DataFrame'>\n",
            "Int64Index: 25660 entries, 0 to 25659\n",
            "Data columns (total 23 columns):\n",
            " #   Column              Non-Null Count  Dtype  \n",
            "---  ------              --------------  -----  \n",
            " 0   id                  25660 non-null  int64  \n",
            " 1   form_code           25660 non-null  object \n",
            " 2   root_org_id         25660 non-null  int64  \n",
            " 3   created_at          25660 non-null  object \n",
            " 4   updated_at          25660 non-null  object \n",
            " 5   deleted_at          0 non-null      float64\n",
            " 6   submitted_at        25660 non-null  object \n",
            " 7   is_draft            25660 non-null  bool   \n",
            " 8   submitted_by_id     25660 non-null  int64  \n",
            " 9   activity_id         0 non-null      float64\n",
            " 10  target_id           25660 non-null  int64  \n",
            " 11  target_type         25660 non-null  object \n",
            " 12  readable_id         25660 non-null  object \n",
            " 13  episode_of_care_id  2 non-null      float64\n",
            " 14  source              25660 non-null  object \n",
            " 15  app_version         24348 non-null  float64\n",
            " 16  platform_os         24348 non-null  object \n",
            " 17  app_install_date    25040 non-null  object \n",
            " 18  last_accessed_date  25660 non-null  object \n",
            " 19  user_id             25660 non-null  int64  \n",
            " 20  city                23996 non-null  object \n",
            " 21  country             25408 non-null  object \n",
            " 22  region              25388 non-null  object \n",
            "dtypes: bool(1), float64(4), int64(5), object(13)\n",
            "memory usage: 4.5+ MB\n"
          ]
        }
      ]
    },
    {
      "cell_type": "markdown",
      "source": [
        "Observations:\n",
        "\n",
        "1) Dataset contains 1 booltype, 4 float64type, 5 int64 type, 13 object type columns\n",
        "\n",
        "2) Dataset has many missing values"
      ],
      "metadata": {
        "id": "r3jarTPD9LT5"
      }
    },
    {
      "cell_type": "markdown",
      "source": [
        "### Summary of dataset"
      ],
      "metadata": {
        "id": "DTC4Re49OoKA"
      }
    },
    {
      "cell_type": "code",
      "source": [
        "df.describe()"
      ],
      "metadata": {
        "colab": {
          "base_uri": "https://localhost:8080/",
          "height": 300
        },
        "id": "kXvzH1HbOxUK",
        "outputId": "5befe16e-4bd4-416a-e66a-570811e81c41"
      },
      "execution_count": 8,
      "outputs": [
        {
          "output_type": "execute_result",
          "data": {
            "text/html": [
              "\n",
              "  <div id=\"df-a6262f1f-a132-4fe7-bf22-c99003c4fa33\">\n",
              "    <div class=\"colab-df-container\">\n",
              "      <div>\n",
              "<style scoped>\n",
              "    .dataframe tbody tr th:only-of-type {\n",
              "        vertical-align: middle;\n",
              "    }\n",
              "\n",
              "    .dataframe tbody tr th {\n",
              "        vertical-align: top;\n",
              "    }\n",
              "\n",
              "    .dataframe thead th {\n",
              "        text-align: right;\n",
              "    }\n",
              "</style>\n",
              "<table border=\"1\" class=\"dataframe\">\n",
              "  <thead>\n",
              "    <tr style=\"text-align: right;\">\n",
              "      <th></th>\n",
              "      <th>id</th>\n",
              "      <th>root_org_id</th>\n",
              "      <th>deleted_at</th>\n",
              "      <th>submitted_by_id</th>\n",
              "      <th>activity_id</th>\n",
              "      <th>target_id</th>\n",
              "      <th>episode_of_care_id</th>\n",
              "      <th>app_version</th>\n",
              "      <th>user_id</th>\n",
              "    </tr>\n",
              "  </thead>\n",
              "  <tbody>\n",
              "    <tr>\n",
              "      <th>count</th>\n",
              "      <td>25660.000000</td>\n",
              "      <td>25660.0</td>\n",
              "      <td>0.0</td>\n",
              "      <td>25660.000000</td>\n",
              "      <td>0.0</td>\n",
              "      <td>25660.000000</td>\n",
              "      <td>2.0</td>\n",
              "      <td>24348.000000</td>\n",
              "      <td>25660.000000</td>\n",
              "    </tr>\n",
              "    <tr>\n",
              "      <th>mean</th>\n",
              "      <td>202984.624513</td>\n",
              "      <td>1140.0</td>\n",
              "      <td>NaN</td>\n",
              "      <td>32127.966446</td>\n",
              "      <td>NaN</td>\n",
              "      <td>267111.924279</td>\n",
              "      <td>276.0</td>\n",
              "      <td>1.262424</td>\n",
              "      <td>32127.966446</td>\n",
              "    </tr>\n",
              "    <tr>\n",
              "      <th>std</th>\n",
              "      <td>28822.542789</td>\n",
              "      <td>0.0</td>\n",
              "      <td>NaN</td>\n",
              "      <td>1327.284666</td>\n",
              "      <td>NaN</td>\n",
              "      <td>5785.353059</td>\n",
              "      <td>0.0</td>\n",
              "      <td>0.277582</td>\n",
              "      <td>1327.284666</td>\n",
              "    </tr>\n",
              "    <tr>\n",
              "      <th>min</th>\n",
              "      <td>141175.000000</td>\n",
              "      <td>1140.0</td>\n",
              "      <td>NaN</td>\n",
              "      <td>29831.000000</td>\n",
              "      <td>NaN</td>\n",
              "      <td>255324.000000</td>\n",
              "      <td>276.0</td>\n",
              "      <td>1.100000</td>\n",
              "      <td>29831.000000</td>\n",
              "    </tr>\n",
              "    <tr>\n",
              "      <th>25%</th>\n",
              "      <td>181604.250000</td>\n",
              "      <td>1140.0</td>\n",
              "      <td>NaN</td>\n",
              "      <td>31050.000000</td>\n",
              "      <td>NaN</td>\n",
              "      <td>262307.000000</td>\n",
              "      <td>276.0</td>\n",
              "      <td>1.120000</td>\n",
              "      <td>31050.000000</td>\n",
              "    </tr>\n",
              "    <tr>\n",
              "      <th>50%</th>\n",
              "      <td>205434.500000</td>\n",
              "      <td>1140.0</td>\n",
              "      <td>NaN</td>\n",
              "      <td>31975.000000</td>\n",
              "      <td>NaN</td>\n",
              "      <td>267776.000000</td>\n",
              "      <td>276.0</td>\n",
              "      <td>1.130000</td>\n",
              "      <td>31975.000000</td>\n",
              "    </tr>\n",
              "    <tr>\n",
              "      <th>75%</th>\n",
              "      <td>227459.500000</td>\n",
              "      <td>1140.0</td>\n",
              "      <td>NaN</td>\n",
              "      <td>33062.500000</td>\n",
              "      <td>NaN</td>\n",
              "      <td>270358.000000</td>\n",
              "      <td>276.0</td>\n",
              "      <td>1.140000</td>\n",
              "      <td>33062.500000</td>\n",
              "    </tr>\n",
              "    <tr>\n",
              "      <th>max</th>\n",
              "      <td>250348.000000</td>\n",
              "      <td>1140.0</td>\n",
              "      <td>NaN</td>\n",
              "      <td>35296.000000</td>\n",
              "      <td>NaN</td>\n",
              "      <td>278489.000000</td>\n",
              "      <td>276.0</td>\n",
              "      <td>1.900000</td>\n",
              "      <td>35296.000000</td>\n",
              "    </tr>\n",
              "  </tbody>\n",
              "</table>\n",
              "</div>\n",
              "      <button class=\"colab-df-convert\" onclick=\"convertToInteractive('df-a6262f1f-a132-4fe7-bf22-c99003c4fa33')\"\n",
              "              title=\"Convert this dataframe to an interactive table.\"\n",
              "              style=\"display:none;\">\n",
              "        \n",
              "  <svg xmlns=\"http://www.w3.org/2000/svg\" height=\"24px\"viewBox=\"0 0 24 24\"\n",
              "       width=\"24px\">\n",
              "    <path d=\"M0 0h24v24H0V0z\" fill=\"none\"/>\n",
              "    <path d=\"M18.56 5.44l.94 2.06.94-2.06 2.06-.94-2.06-.94-.94-2.06-.94 2.06-2.06.94zm-11 1L8.5 8.5l.94-2.06 2.06-.94-2.06-.94L8.5 2.5l-.94 2.06-2.06.94zm10 10l.94 2.06.94-2.06 2.06-.94-2.06-.94-.94-2.06-.94 2.06-2.06.94z\"/><path d=\"M17.41 7.96l-1.37-1.37c-.4-.4-.92-.59-1.43-.59-.52 0-1.04.2-1.43.59L10.3 9.45l-7.72 7.72c-.78.78-.78 2.05 0 2.83L4 21.41c.39.39.9.59 1.41.59.51 0 1.02-.2 1.41-.59l7.78-7.78 2.81-2.81c.8-.78.8-2.07 0-2.86zM5.41 20L4 18.59l7.72-7.72 1.47 1.35L5.41 20z\"/>\n",
              "  </svg>\n",
              "      </button>\n",
              "      \n",
              "  <style>\n",
              "    .colab-df-container {\n",
              "      display:flex;\n",
              "      flex-wrap:wrap;\n",
              "      gap: 12px;\n",
              "    }\n",
              "\n",
              "    .colab-df-convert {\n",
              "      background-color: #E8F0FE;\n",
              "      border: none;\n",
              "      border-radius: 50%;\n",
              "      cursor: pointer;\n",
              "      display: none;\n",
              "      fill: #1967D2;\n",
              "      height: 32px;\n",
              "      padding: 0 0 0 0;\n",
              "      width: 32px;\n",
              "    }\n",
              "\n",
              "    .colab-df-convert:hover {\n",
              "      background-color: #E2EBFA;\n",
              "      box-shadow: 0px 1px 2px rgba(60, 64, 67, 0.3), 0px 1px 3px 1px rgba(60, 64, 67, 0.15);\n",
              "      fill: #174EA6;\n",
              "    }\n",
              "\n",
              "    [theme=dark] .colab-df-convert {\n",
              "      background-color: #3B4455;\n",
              "      fill: #D2E3FC;\n",
              "    }\n",
              "\n",
              "    [theme=dark] .colab-df-convert:hover {\n",
              "      background-color: #434B5C;\n",
              "      box-shadow: 0px 1px 3px 1px rgba(0, 0, 0, 0.15);\n",
              "      filter: drop-shadow(0px 1px 2px rgba(0, 0, 0, 0.3));\n",
              "      fill: #FFFFFF;\n",
              "    }\n",
              "  </style>\n",
              "\n",
              "      <script>\n",
              "        const buttonEl =\n",
              "          document.querySelector('#df-a6262f1f-a132-4fe7-bf22-c99003c4fa33 button.colab-df-convert');\n",
              "        buttonEl.style.display =\n",
              "          google.colab.kernel.accessAllowed ? 'block' : 'none';\n",
              "\n",
              "        async function convertToInteractive(key) {\n",
              "          const element = document.querySelector('#df-a6262f1f-a132-4fe7-bf22-c99003c4fa33');\n",
              "          const dataTable =\n",
              "            await google.colab.kernel.invokeFunction('convertToInteractive',\n",
              "                                                     [key], {});\n",
              "          if (!dataTable) return;\n",
              "\n",
              "          const docLinkHtml = 'Like what you see? Visit the ' +\n",
              "            '<a target=\"_blank\" href=https://colab.research.google.com/notebooks/data_table.ipynb>data table notebook</a>'\n",
              "            + ' to learn more about interactive tables.';\n",
              "          element.innerHTML = '';\n",
              "          dataTable['output_type'] = 'display_data';\n",
              "          await google.colab.output.renderOutput(dataTable, element);\n",
              "          const docLink = document.createElement('div');\n",
              "          docLink.innerHTML = docLinkHtml;\n",
              "          element.appendChild(docLink);\n",
              "        }\n",
              "      </script>\n",
              "    </div>\n",
              "  </div>\n",
              "  "
            ],
            "text/plain": [
              "                  id  root_org_id  deleted_at  submitted_by_id  activity_id  \\\n",
              "count   25660.000000      25660.0         0.0     25660.000000          0.0   \n",
              "mean   202984.624513       1140.0         NaN     32127.966446          NaN   \n",
              "std     28822.542789          0.0         NaN      1327.284666          NaN   \n",
              "min    141175.000000       1140.0         NaN     29831.000000          NaN   \n",
              "25%    181604.250000       1140.0         NaN     31050.000000          NaN   \n",
              "50%    205434.500000       1140.0         NaN     31975.000000          NaN   \n",
              "75%    227459.500000       1140.0         NaN     33062.500000          NaN   \n",
              "max    250348.000000       1140.0         NaN     35296.000000          NaN   \n",
              "\n",
              "           target_id  episode_of_care_id   app_version       user_id  \n",
              "count   25660.000000                 2.0  24348.000000  25660.000000  \n",
              "mean   267111.924279               276.0      1.262424  32127.966446  \n",
              "std      5785.353059                 0.0      0.277582   1327.284666  \n",
              "min    255324.000000               276.0      1.100000  29831.000000  \n",
              "25%    262307.000000               276.0      1.120000  31050.000000  \n",
              "50%    267776.000000               276.0      1.130000  31975.000000  \n",
              "75%    270358.000000               276.0      1.140000  33062.500000  \n",
              "max    278489.000000               276.0      1.900000  35296.000000  "
            ]
          },
          "metadata": {},
          "execution_count": 8
        }
      ]
    },
    {
      "cell_type": "markdown",
      "source": [
        "## Handling missing values and columns"
      ],
      "metadata": {
        "id": "CGWWXEE0O8kb"
      }
    },
    {
      "cell_type": "markdown",
      "source": [
        "### Droping columns with Nan Values"
      ],
      "metadata": {
        "id": "oC4ZDsznPOnS"
      }
    },
    {
      "cell_type": "code",
      "source": [
        "df.drop(columns=['deleted_at','activity_id','episode_of_care_id'],inplace=True)"
      ],
      "metadata": {
        "id": "qwvKYe_wPChI"
      },
      "execution_count": 9,
      "outputs": []
    },
    {
      "cell_type": "markdown",
      "source": [
        "### Handling missing values"
      ],
      "metadata": {
        "id": "cN_A1TBVPwBL"
      }
    },
    {
      "cell_type": "code",
      "source": [
        "df.isna().sum()"
      ],
      "metadata": {
        "colab": {
          "base_uri": "https://localhost:8080/"
        },
        "id": "xYIZoO0-nnBW",
        "outputId": "d27e7277-662f-4021-cc8f-ac454c60962a"
      },
      "execution_count": 10,
      "outputs": [
        {
          "output_type": "execute_result",
          "data": {
            "text/plain": [
              "id                       0\n",
              "form_code                0\n",
              "root_org_id              0\n",
              "created_at               0\n",
              "updated_at               0\n",
              "submitted_at             0\n",
              "is_draft                 0\n",
              "submitted_by_id          0\n",
              "target_id                0\n",
              "target_type              0\n",
              "readable_id              0\n",
              "source                   0\n",
              "app_version           1312\n",
              "platform_os           1312\n",
              "app_install_date       620\n",
              "last_accessed_date       0\n",
              "user_id                  0\n",
              "city                  1664\n",
              "country                252\n",
              "region                 272\n",
              "dtype: int64"
            ]
          },
          "metadata": {},
          "execution_count": 10
        }
      ]
    },
    {
      "cell_type": "markdown",
      "source": [
        "Percentage of missing values"
      ],
      "metadata": {
        "id": "lBptkiTmQCVR"
      }
    },
    {
      "cell_type": "code",
      "source": [
        "df.isna().sum()/df.count()*100"
      ],
      "metadata": {
        "colab": {
          "base_uri": "https://localhost:8080/"
        },
        "id": "EEiIfW8PQH0r",
        "outputId": "c3c12ba7-dc67-4e5d-95bd-d94f68f27aa3"
      },
      "execution_count": 11,
      "outputs": [
        {
          "output_type": "execute_result",
          "data": {
            "text/plain": [
              "id                    0.000000\n",
              "form_code             0.000000\n",
              "root_org_id           0.000000\n",
              "created_at            0.000000\n",
              "updated_at            0.000000\n",
              "submitted_at          0.000000\n",
              "is_draft              0.000000\n",
              "submitted_by_id       0.000000\n",
              "target_id             0.000000\n",
              "target_type           0.000000\n",
              "readable_id           0.000000\n",
              "source                0.000000\n",
              "app_version           5.388533\n",
              "platform_os           5.388533\n",
              "app_install_date      2.476038\n",
              "last_accessed_date    0.000000\n",
              "user_id               0.000000\n",
              "city                  6.934489\n",
              "country               0.991814\n",
              "region                1.071372\n",
              "dtype: float64"
            ]
          },
          "metadata": {},
          "execution_count": 11
        }
      ]
    },
    {
      "cell_type": "markdown",
      "source": [
        "From above analysis we can see that city contains most number of missing values followed by app_version and platform_os. Other columns that contain missing values are country ,region and app_install date"
      ],
      "metadata": {
        "id": "OY79X5Aulr_h"
      }
    },
    {
      "cell_type": "markdown",
      "source": [
        "### Using Fillna to fill missing values"
      ],
      "metadata": {
        "id": "F6E81PL8lrzh"
      }
    },
    {
      "cell_type": "code",
      "source": [
        "df['city'].fillna(method = 'ffill', inplace=True)\n",
        "df['country'].fillna(method = 'ffill', inplace=True)"
      ],
      "metadata": {
        "id": "fPI1iP9ckFVZ"
      },
      "execution_count": 12,
      "outputs": []
    },
    {
      "cell_type": "code",
      "source": [
        "df.isna().sum()"
      ],
      "metadata": {
        "colab": {
          "base_uri": "https://localhost:8080/"
        },
        "id": "EJx6GeIMke-l",
        "outputId": "821d5bce-e6af-42e1-a0e5-21195e3ebf30"
      },
      "execution_count": 13,
      "outputs": [
        {
          "output_type": "execute_result",
          "data": {
            "text/plain": [
              "id                       0\n",
              "form_code                0\n",
              "root_org_id              0\n",
              "created_at               0\n",
              "updated_at               0\n",
              "submitted_at             0\n",
              "is_draft                 0\n",
              "submitted_by_id          0\n",
              "target_id                0\n",
              "target_type              0\n",
              "readable_id              0\n",
              "source                   0\n",
              "app_version           1312\n",
              "platform_os           1312\n",
              "app_install_date       620\n",
              "last_accessed_date       0\n",
              "user_id                  0\n",
              "city                     0\n",
              "country                  0\n",
              "region                 272\n",
              "dtype: int64"
            ]
          },
          "metadata": {},
          "execution_count": 13
        }
      ]
    },
    {
      "cell_type": "markdown",
      "source": [
        "Dropping the remaining missing values as data loss is around 5%"
      ],
      "metadata": {
        "id": "F9pL4UZdnOXG"
      }
    },
    {
      "cell_type": "code",
      "source": [
        "df.dropna(inplace=True)"
      ],
      "metadata": {
        "id": "Rdki30rYQdpg"
      },
      "execution_count": 14,
      "outputs": []
    },
    {
      "cell_type": "code",
      "source": [
        "df.info()"
      ],
      "metadata": {
        "colab": {
          "base_uri": "https://localhost:8080/"
        },
        "id": "FDtBLpnpQomm",
        "outputId": "a6593de9-2f7e-4ee1-8794-e32d86d125bc"
      },
      "execution_count": 15,
      "outputs": [
        {
          "output_type": "stream",
          "name": "stdout",
          "text": [
            "<class 'pandas.core.frame.DataFrame'>\n",
            "Int64Index: 23474 entries, 39 to 25656\n",
            "Data columns (total 20 columns):\n",
            " #   Column              Non-Null Count  Dtype  \n",
            "---  ------              --------------  -----  \n",
            " 0   id                  23474 non-null  int64  \n",
            " 1   form_code           23474 non-null  object \n",
            " 2   root_org_id         23474 non-null  int64  \n",
            " 3   created_at          23474 non-null  object \n",
            " 4   updated_at          23474 non-null  object \n",
            " 5   submitted_at        23474 non-null  object \n",
            " 6   is_draft            23474 non-null  bool   \n",
            " 7   submitted_by_id     23474 non-null  int64  \n",
            " 8   target_id           23474 non-null  int64  \n",
            " 9   target_type         23474 non-null  object \n",
            " 10  readable_id         23474 non-null  object \n",
            " 11  source              23474 non-null  object \n",
            " 12  app_version         23474 non-null  float64\n",
            " 13  platform_os         23474 non-null  object \n",
            " 14  app_install_date    23474 non-null  object \n",
            " 15  last_accessed_date  23474 non-null  object \n",
            " 16  user_id             23474 non-null  int64  \n",
            " 17  city                23474 non-null  object \n",
            " 18  country             23474 non-null  object \n",
            " 19  region              23474 non-null  object \n",
            "dtypes: bool(1), float64(1), int64(5), object(13)\n",
            "memory usage: 3.6+ MB\n"
          ]
        }
      ]
    },
    {
      "cell_type": "markdown",
      "source": [
        "## Checking number of unique values in each column"
      ],
      "metadata": {
        "id": "Ylxg_CPkneM3"
      }
    },
    {
      "cell_type": "code",
      "source": [
        "for i in df.columns:\n",
        "  print (i,df[i].nunique())\n",
        "  print()"
      ],
      "metadata": {
        "colab": {
          "base_uri": "https://localhost:8080/"
        },
        "id": "sJOSdAKwRAJ4",
        "outputId": "bedd6dbc-fed6-481f-fd2c-552db9339afb"
      },
      "execution_count": 16,
      "outputs": [
        {
          "output_type": "stream",
          "name": "stdout",
          "text": [
            "id 23474\n",
            "\n",
            "form_code 1\n",
            "\n",
            "root_org_id 1\n",
            "\n",
            "created_at 23474\n",
            "\n",
            "updated_at 23474\n",
            "\n",
            "submitted_at 23474\n",
            "\n",
            "is_draft 1\n",
            "\n",
            "submitted_by_id 2379\n",
            "\n",
            "target_id 2379\n",
            "\n",
            "target_type 1\n",
            "\n",
            "readable_id 23474\n",
            "\n",
            "source 1\n",
            "\n",
            "app_version 9\n",
            "\n",
            "platform_os 2\n",
            "\n",
            "app_install_date 2932\n",
            "\n",
            "last_accessed_date 23474\n",
            "\n",
            "user_id 2379\n",
            "\n",
            "city 211\n",
            "\n",
            "country 7\n",
            "\n",
            "region 39\n",
            "\n"
          ]
        }
      ]
    },
    {
      "cell_type": "markdown",
      "source": [
        "Let's drop the columns with only 1 unique values. Addition to that we will be dropping 'created_at', \t'updated_at', 'user_id',\t'submitted_at' columns which are not useful for our analysis."
      ],
      "metadata": {
        "id": "I2e1NCEnnqNY"
      }
    },
    {
      "cell_type": "code",
      "source": [
        "df.drop(columns=['form_code', 'root_org_id','source','is_draft','target_type', 'created_at', \t'updated_at', 'user_id',\t'submitted_at'],axis=1,inplace=True)"
      ],
      "metadata": {
        "id": "5nnzzjRiYeXH"
      },
      "execution_count": 17,
      "outputs": []
    },
    {
      "cell_type": "markdown",
      "source": [
        "## Adding Date Time columns"
      ],
      "metadata": {
        "id": "K7Sly6RWSRtY"
      }
    },
    {
      "cell_type": "markdown",
      "source": [
        "The dataset contains app_install_date,\tlast_accessed_date columns. The date and time format is not much useful for our analysis. So we will extract year-month, number of usage hours before last accessing time of app and year of installation."
      ],
      "metadata": {
        "id": "lTIUh11FoOQ3"
      }
    },
    {
      "cell_type": "code",
      "source": [
        "df['install_month_year'] = pd.to_datetime(df['app_install_date']).dt.strftime('%Y-%m')\n",
        "df['lastuse_month_year'] = pd.to_datetime(df['last_accessed_date']).dt.strftime('%Y-%m')\n",
        "df['Installed_hrs'] = ((pd.to_datetime(df['last_accessed_date'])-pd.to_datetime(df['app_install_date'])).dt.seconds)/3600\n",
        "df['install_year'] = pd.to_datetime(df['app_install_date']).dt.year\n"
      ],
      "metadata": {
        "id": "0adxhfGwUty9"
      },
      "execution_count": 18,
      "outputs": []
    },
    {
      "cell_type": "code",
      "source": [
        "df.head()"
      ],
      "metadata": {
        "colab": {
          "base_uri": "https://localhost:8080/",
          "height": 357
        },
        "id": "wseoHwtgWPVg",
        "outputId": "293baa98-7574-4eae-bf98-3ebd32c54cd6"
      },
      "execution_count": 19,
      "outputs": [
        {
          "output_type": "execute_result",
          "data": {
            "text/html": [
              "\n",
              "  <div id=\"df-44b9bce0-9b2d-4172-97d7-2fb3b865ca7b\">\n",
              "    <div class=\"colab-df-container\">\n",
              "      <div>\n",
              "<style scoped>\n",
              "    .dataframe tbody tr th:only-of-type {\n",
              "        vertical-align: middle;\n",
              "    }\n",
              "\n",
              "    .dataframe tbody tr th {\n",
              "        vertical-align: top;\n",
              "    }\n",
              "\n",
              "    .dataframe thead th {\n",
              "        text-align: right;\n",
              "    }\n",
              "</style>\n",
              "<table border=\"1\" class=\"dataframe\">\n",
              "  <thead>\n",
              "    <tr style=\"text-align: right;\">\n",
              "      <th></th>\n",
              "      <th>id</th>\n",
              "      <th>submitted_by_id</th>\n",
              "      <th>target_id</th>\n",
              "      <th>readable_id</th>\n",
              "      <th>app_version</th>\n",
              "      <th>platform_os</th>\n",
              "      <th>app_install_date</th>\n",
              "      <th>last_accessed_date</th>\n",
              "      <th>city</th>\n",
              "      <th>country</th>\n",
              "      <th>region</th>\n",
              "      <th>install_month_year</th>\n",
              "      <th>lastuse_month_year</th>\n",
              "      <th>Installed_hrs</th>\n",
              "      <th>install_year</th>\n",
              "    </tr>\n",
              "  </thead>\n",
              "  <tbody>\n",
              "    <tr>\n",
              "      <th>39</th>\n",
              "      <td>141527</td>\n",
              "      <td>30511</td>\n",
              "      <td>255944</td>\n",
              "      <td>R3M-BXW</td>\n",
              "      <td>1.7</td>\n",
              "      <td>android</td>\n",
              "      <td>2020-10-01 17:10:20.619</td>\n",
              "      <td>2020-10-01 19:07:46.704</td>\n",
              "      <td>Bengaluru</td>\n",
              "      <td>India</td>\n",
              "      <td>Karnataka</td>\n",
              "      <td>2020-10</td>\n",
              "      <td>2020-10</td>\n",
              "      <td>1.957222</td>\n",
              "      <td>2020</td>\n",
              "    </tr>\n",
              "    <tr>\n",
              "      <th>40</th>\n",
              "      <td>141406</td>\n",
              "      <td>30511</td>\n",
              "      <td>255944</td>\n",
              "      <td>NH2-3GP</td>\n",
              "      <td>1.7</td>\n",
              "      <td>android</td>\n",
              "      <td>2020-10-01 17:10:20.619</td>\n",
              "      <td>2020-10-01 17:11:27.78</td>\n",
              "      <td>Bengaluru</td>\n",
              "      <td>India</td>\n",
              "      <td>Karnataka</td>\n",
              "      <td>2020-10</td>\n",
              "      <td>2020-10</td>\n",
              "      <td>0.018611</td>\n",
              "      <td>2020</td>\n",
              "    </tr>\n",
              "    <tr>\n",
              "      <th>41</th>\n",
              "      <td>142938</td>\n",
              "      <td>30511</td>\n",
              "      <td>255944</td>\n",
              "      <td>EQA-KG6</td>\n",
              "      <td>1.7</td>\n",
              "      <td>android</td>\n",
              "      <td>2020-10-01 17:10:20.619</td>\n",
              "      <td>2020-10-06 11:03:31.873</td>\n",
              "      <td>Bengaluru</td>\n",
              "      <td>India</td>\n",
              "      <td>Karnataka</td>\n",
              "      <td>2020-10</td>\n",
              "      <td>2020-10</td>\n",
              "      <td>17.886389</td>\n",
              "      <td>2020</td>\n",
              "    </tr>\n",
              "    <tr>\n",
              "      <th>42</th>\n",
              "      <td>143112</td>\n",
              "      <td>30511</td>\n",
              "      <td>255944</td>\n",
              "      <td>TD4-6AW</td>\n",
              "      <td>1.7</td>\n",
              "      <td>android</td>\n",
              "      <td>2020-10-01 17:10:20.619</td>\n",
              "      <td>2020-10-06 17:17:09.531</td>\n",
              "      <td>Bengaluru</td>\n",
              "      <td>India</td>\n",
              "      <td>Karnataka</td>\n",
              "      <td>2020-10</td>\n",
              "      <td>2020-10</td>\n",
              "      <td>0.113333</td>\n",
              "      <td>2020</td>\n",
              "    </tr>\n",
              "    <tr>\n",
              "      <th>43</th>\n",
              "      <td>143959</td>\n",
              "      <td>30511</td>\n",
              "      <td>255944</td>\n",
              "      <td>QGV-8ZB</td>\n",
              "      <td>1.7</td>\n",
              "      <td>android</td>\n",
              "      <td>2020-10-01 17:10:20.619</td>\n",
              "      <td>2020-10-08 10:25:46.159</td>\n",
              "      <td>Bengaluru</td>\n",
              "      <td>India</td>\n",
              "      <td>Karnataka</td>\n",
              "      <td>2020-10</td>\n",
              "      <td>2020-10</td>\n",
              "      <td>17.256944</td>\n",
              "      <td>2020</td>\n",
              "    </tr>\n",
              "  </tbody>\n",
              "</table>\n",
              "</div>\n",
              "      <button class=\"colab-df-convert\" onclick=\"convertToInteractive('df-44b9bce0-9b2d-4172-97d7-2fb3b865ca7b')\"\n",
              "              title=\"Convert this dataframe to an interactive table.\"\n",
              "              style=\"display:none;\">\n",
              "        \n",
              "  <svg xmlns=\"http://www.w3.org/2000/svg\" height=\"24px\"viewBox=\"0 0 24 24\"\n",
              "       width=\"24px\">\n",
              "    <path d=\"M0 0h24v24H0V0z\" fill=\"none\"/>\n",
              "    <path d=\"M18.56 5.44l.94 2.06.94-2.06 2.06-.94-2.06-.94-.94-2.06-.94 2.06-2.06.94zm-11 1L8.5 8.5l.94-2.06 2.06-.94-2.06-.94L8.5 2.5l-.94 2.06-2.06.94zm10 10l.94 2.06.94-2.06 2.06-.94-2.06-.94-.94-2.06-.94 2.06-2.06.94z\"/><path d=\"M17.41 7.96l-1.37-1.37c-.4-.4-.92-.59-1.43-.59-.52 0-1.04.2-1.43.59L10.3 9.45l-7.72 7.72c-.78.78-.78 2.05 0 2.83L4 21.41c.39.39.9.59 1.41.59.51 0 1.02-.2 1.41-.59l7.78-7.78 2.81-2.81c.8-.78.8-2.07 0-2.86zM5.41 20L4 18.59l7.72-7.72 1.47 1.35L5.41 20z\"/>\n",
              "  </svg>\n",
              "      </button>\n",
              "      \n",
              "  <style>\n",
              "    .colab-df-container {\n",
              "      display:flex;\n",
              "      flex-wrap:wrap;\n",
              "      gap: 12px;\n",
              "    }\n",
              "\n",
              "    .colab-df-convert {\n",
              "      background-color: #E8F0FE;\n",
              "      border: none;\n",
              "      border-radius: 50%;\n",
              "      cursor: pointer;\n",
              "      display: none;\n",
              "      fill: #1967D2;\n",
              "      height: 32px;\n",
              "      padding: 0 0 0 0;\n",
              "      width: 32px;\n",
              "    }\n",
              "\n",
              "    .colab-df-convert:hover {\n",
              "      background-color: #E2EBFA;\n",
              "      box-shadow: 0px 1px 2px rgba(60, 64, 67, 0.3), 0px 1px 3px 1px rgba(60, 64, 67, 0.15);\n",
              "      fill: #174EA6;\n",
              "    }\n",
              "\n",
              "    [theme=dark] .colab-df-convert {\n",
              "      background-color: #3B4455;\n",
              "      fill: #D2E3FC;\n",
              "    }\n",
              "\n",
              "    [theme=dark] .colab-df-convert:hover {\n",
              "      background-color: #434B5C;\n",
              "      box-shadow: 0px 1px 3px 1px rgba(0, 0, 0, 0.15);\n",
              "      filter: drop-shadow(0px 1px 2px rgba(0, 0, 0, 0.3));\n",
              "      fill: #FFFFFF;\n",
              "    }\n",
              "  </style>\n",
              "\n",
              "      <script>\n",
              "        const buttonEl =\n",
              "          document.querySelector('#df-44b9bce0-9b2d-4172-97d7-2fb3b865ca7b button.colab-df-convert');\n",
              "        buttonEl.style.display =\n",
              "          google.colab.kernel.accessAllowed ? 'block' : 'none';\n",
              "\n",
              "        async function convertToInteractive(key) {\n",
              "          const element = document.querySelector('#df-44b9bce0-9b2d-4172-97d7-2fb3b865ca7b');\n",
              "          const dataTable =\n",
              "            await google.colab.kernel.invokeFunction('convertToInteractive',\n",
              "                                                     [key], {});\n",
              "          if (!dataTable) return;\n",
              "\n",
              "          const docLinkHtml = 'Like what you see? Visit the ' +\n",
              "            '<a target=\"_blank\" href=https://colab.research.google.com/notebooks/data_table.ipynb>data table notebook</a>'\n",
              "            + ' to learn more about interactive tables.';\n",
              "          element.innerHTML = '';\n",
              "          dataTable['output_type'] = 'display_data';\n",
              "          await google.colab.output.renderOutput(dataTable, element);\n",
              "          const docLink = document.createElement('div');\n",
              "          docLink.innerHTML = docLinkHtml;\n",
              "          element.appendChild(docLink);\n",
              "        }\n",
              "      </script>\n",
              "    </div>\n",
              "  </div>\n",
              "  "
            ],
            "text/plain": [
              "        id  submitted_by_id  target_id readable_id  app_version platform_os  \\\n",
              "39  141527            30511     255944     R3M-BXW          1.7     android   \n",
              "40  141406            30511     255944     NH2-3GP          1.7     android   \n",
              "41  142938            30511     255944     EQA-KG6          1.7     android   \n",
              "42  143112            30511     255944     TD4-6AW          1.7     android   \n",
              "43  143959            30511     255944     QGV-8ZB          1.7     android   \n",
              "\n",
              "           app_install_date       last_accessed_date       city country  \\\n",
              "39  2020-10-01 17:10:20.619  2020-10-01 19:07:46.704  Bengaluru   India   \n",
              "40  2020-10-01 17:10:20.619   2020-10-01 17:11:27.78  Bengaluru   India   \n",
              "41  2020-10-01 17:10:20.619  2020-10-06 11:03:31.873  Bengaluru   India   \n",
              "42  2020-10-01 17:10:20.619  2020-10-06 17:17:09.531  Bengaluru   India   \n",
              "43  2020-10-01 17:10:20.619  2020-10-08 10:25:46.159  Bengaluru   India   \n",
              "\n",
              "       region install_month_year lastuse_month_year  Installed_hrs  \\\n",
              "39  Karnataka            2020-10            2020-10       1.957222   \n",
              "40  Karnataka            2020-10            2020-10       0.018611   \n",
              "41  Karnataka            2020-10            2020-10      17.886389   \n",
              "42  Karnataka            2020-10            2020-10       0.113333   \n",
              "43  Karnataka            2020-10            2020-10      17.256944   \n",
              "\n",
              "    install_year  \n",
              "39          2020  \n",
              "40          2020  \n",
              "41          2020  \n",
              "42          2020  \n",
              "43          2020  "
            ]
          },
          "metadata": {},
          "execution_count": 19
        }
      ]
    },
    {
      "cell_type": "markdown",
      "source": [
        "## Exploratory data anlysis"
      ],
      "metadata": {
        "id": "VN94qQs3pWNh"
      }
    },
    {
      "cell_type": "markdown",
      "source": [
        "### Checking the most preferred os platform"
      ],
      "metadata": {
        "id": "App5WKNmpcVK"
      }
    },
    {
      "cell_type": "code",
      "source": [
        "df['platform_os'].value_counts()"
      ],
      "metadata": {
        "colab": {
          "base_uri": "https://localhost:8080/"
        },
        "id": "GBmiLq6WU355",
        "outputId": "8d6399a3-c90d-47f7-e280-110de3df53b4"
      },
      "execution_count": 20,
      "outputs": [
        {
          "output_type": "execute_result",
          "data": {
            "text/plain": [
              "android    22450\n",
              "ios         1024\n",
              "Name: platform_os, dtype: int64"
            ]
          },
          "metadata": {},
          "execution_count": 20
        }
      ]
    },
    {
      "cell_type": "code",
      "source": [
        "df['platform_os'].value_counts()/df['platform_os'].count()*100"
      ],
      "metadata": {
        "colab": {
          "base_uri": "https://localhost:8080/"
        },
        "id": "vESyFvadVGsT",
        "outputId": "676ea700-9a66-40f6-f70b-34eb45c26491"
      },
      "execution_count": 21,
      "outputs": [
        {
          "output_type": "execute_result",
          "data": {
            "text/plain": [
              "android    95.637727\n",
              "ios         4.362273\n",
              "Name: platform_os, dtype: float64"
            ]
          },
          "metadata": {},
          "execution_count": 21
        }
      ]
    },
    {
      "cell_type": "code",
      "source": [
        "sns.countplot(df['platform_os'])\n",
        "plt.title(\"Countplot of OS platform\")\n",
        "plt.xlabel('OS Platform')\n",
        "plt.ylabel('Number of Downloads')\n",
        "plt.show()"
      ],
      "metadata": {
        "colab": {
          "base_uri": "https://localhost:8080/",
          "height": 351
        },
        "id": "T6OBZ5I5CWk5",
        "outputId": "b5f1e77f-a5e3-45d2-808c-182e21df95d0"
      },
      "execution_count": 22,
      "outputs": [
        {
          "output_type": "stream",
          "name": "stderr",
          "text": [
            "/usr/local/lib/python3.7/dist-packages/seaborn/_decorators.py:43: FutureWarning: Pass the following variable as a keyword arg: x. From version 0.12, the only valid positional argument will be `data`, and passing other arguments without an explicit keyword will result in an error or misinterpretation.\n",
            "  FutureWarning\n"
          ]
        },
        {
          "output_type": "display_data",
          "data": {
            "image/png": "[encoded data removed]",
            "text/plain": [
              "<Figure size 432x288 with 1 Axes>"
            ]
          },
          "metadata": {
            "needs_background": "light"
          }
        }
      ]
    },
    {
      "cell_type": "markdown",
      "source": [
        "Observations:\n",
        "\n",
        "1) Number of installations on android platform is more than ios.\n",
        "\n",
        "2) The app is downloaded on android 22450 times while on ios is 1024 which is only 4.36%."
      ],
      "metadata": {
        "id": "6PPc9xaepj_3"
      }
    },
    {
      "cell_type": "markdown",
      "source": [
        "### Checking installations as per app vaerions"
      ],
      "metadata": {
        "id": "8OoGRPnbqRVk"
      }
    },
    {
      "cell_type": "code",
      "source": [
        "df['app_version'].value_counts()"
      ],
      "metadata": {
        "colab": {
          "base_uri": "https://localhost:8080/"
        },
        "id": "kzgC0rDZVVdq",
        "outputId": "c2ec42f1-8660-4e5a-e1f0-d8dd62c733f1"
      },
      "execution_count": 23,
      "outputs": [
        {
          "output_type": "execute_result",
          "data": {
            "text/plain": [
              "1.12    9706\n",
              "1.14    4766\n",
              "1.13    2400\n",
              "1.90    1989\n",
              "1.70    1447\n",
              "1.10    1237\n",
              "1.80    1212\n",
              "1.11     715\n",
              "1.15       2\n",
              "Name: app_version, dtype: int64"
            ]
          },
          "metadata": {},
          "execution_count": 23
        }
      ]
    },
    {
      "cell_type": "code",
      "source": [
        "sns.countplot(df['app_version'])\n",
        "plt.title(\"Countplot of App Version\")\n",
        "plt.xlabel('App version')\n",
        "plt.ylabel('Number of Downloads')\n",
        "plt.show()"
      ],
      "metadata": {
        "colab": {
          "base_uri": "https://localhost:8080/",
          "height": 351
        },
        "id": "wRVej5yzCz6j",
        "outputId": "f3906d20-e2c1-412d-d9bb-bfa61b198446"
      },
      "execution_count": 24,
      "outputs": [
        {
          "output_type": "stream",
          "name": "stderr",
          "text": [
            "/usr/local/lib/python3.7/dist-packages/seaborn/_decorators.py:43: FutureWarning: Pass the following variable as a keyword arg: x. From version 0.12, the only valid positional argument will be `data`, and passing other arguments without an explicit keyword will result in an error or misinterpretation.\n",
            "  FutureWarning\n"
          ]
        },
        {
          "output_type": "display_data",
          "data": {
            "image/png": "[encoded data removed]",
            "text/plain": [
              "<Figure size 432x288 with 1 Axes>"
            ]
          },
          "metadata": {
            "needs_background": "light"
          }
        }
      ]
    },
    {
      "cell_type": "markdown",
      "source": [
        "The most installed app version is 1.12 followed by 1.14."
      ],
      "metadata": {
        "id": "XKXxRGZYqjSI"
      }
    },
    {
      "cell_type": "markdown",
      "source": [
        "### Checking installations for year 2020 & 2021"
      ],
      "metadata": {
        "id": "aRpJx8-Sqw6l"
      }
    },
    {
      "cell_type": "code",
      "source": [
        "df['install_year'].value_counts()"
      ],
      "metadata": {
        "colab": {
          "base_uri": "https://localhost:8080/"
        },
        "id": "wRfc7gfJq_f3",
        "outputId": "073bac77-944a-4672-ccf3-7904853d8e57"
      },
      "execution_count": 25,
      "outputs": [
        {
          "output_type": "execute_result",
          "data": {
            "text/plain": [
              "2020    15490\n",
              "2021     7984\n",
              "Name: install_year, dtype: int64"
            ]
          },
          "metadata": {},
          "execution_count": 25
        }
      ]
    },
    {
      "cell_type": "code",
      "source": [
        "sns.countplot(df['install_year'])\n",
        "plt.title(\"Countplot of Download Year\")\n",
        "plt.xlabel('Year')\n",
        "plt.ylabel('Number of Downloads')\n",
        "plt.show()"
      ],
      "metadata": {
        "colab": {
          "base_uri": "https://localhost:8080/",
          "height": 351
        },
        "id": "lw6eK5T7DBIr",
        "outputId": "aa527391-505a-44aa-de44-5e537ecaecff"
      },
      "execution_count": 26,
      "outputs": [
        {
          "output_type": "stream",
          "name": "stderr",
          "text": [
            "/usr/local/lib/python3.7/dist-packages/seaborn/_decorators.py:43: FutureWarning: Pass the following variable as a keyword arg: x. From version 0.12, the only valid positional argument will be `data`, and passing other arguments without an explicit keyword will result in an error or misinterpretation.\n",
            "  FutureWarning\n"
          ]
        },
        {
          "output_type": "display_data",
          "data": {
            "image/png": "[encoded data removed]",
            "text/plain": [
              "<Figure size 432x288 with 1 Axes>"
            ]
          },
          "metadata": {
            "needs_background": "light"
          }
        }
      ]
    },
    {
      "cell_type": "markdown",
      "source": [
        "Observations:\n",
        "\n",
        "1) The number of downloads in 2020 are more than 2021. But data for 2021 is for 8 months and for 2021 is of just 2 months.\n",
        "\n",
        "2) Number of installations in 2020 are  15490 & in 2021 are 7984"
      ],
      "metadata": {
        "id": "8vB-QWC6q8k9"
      }
    },
    {
      "cell_type": "markdown",
      "source": [
        "### Number of dowanloads monthwise"
      ],
      "metadata": {
        "id": "2lOZwqq6sneW"
      }
    },
    {
      "cell_type": "code",
      "source": [
        "df['install_month_year'].value_counts()"
      ],
      "metadata": {
        "colab": {
          "base_uri": "https://localhost:8080/"
        },
        "id": "RfBQmaYsMU95",
        "outputId": "b2ca9a40-f3a5-4202-8ac7-1d25ce302bb5"
      },
      "execution_count": 27,
      "outputs": [
        {
          "output_type": "execute_result",
          "data": {
            "text/plain": [
              "2020-12    8220\n",
              "2021-01    4881\n",
              "2020-11    3216\n",
              "2021-02    3103\n",
              "2020-10    1877\n",
              "2020-09    1040\n",
              "2020-08     866\n",
              "2020-07     174\n",
              "2020-06      94\n",
              "2020-05       3\n",
              "Name: install_month_year, dtype: int64"
            ]
          },
          "metadata": {},
          "execution_count": 27
        }
      ]
    },
    {
      "cell_type": "code",
      "source": [
        "plt.figure(figsize=(15,8))\n",
        "sns.countplot(df['install_month_year'].sort_values())\n",
        "plt.title(\"Countplot of Month wise Downloads\")\n",
        "plt.xlabel('Year-Month')\n",
        "plt.ylabel('Number of Downloads')\n",
        "plt.show()"
      ],
      "metadata": {
        "colab": {
          "base_uri": "https://localhost:8080/",
          "height": 569
        },
        "id": "498kdMzoDJqQ",
        "outputId": "33d29f44-60d5-4049-e855-05d29e55b19f"
      },
      "execution_count": 28,
      "outputs": [
        {
          "output_type": "stream",
          "name": "stderr",
          "text": [
            "/usr/local/lib/python3.7/dist-packages/seaborn/_decorators.py:43: FutureWarning: Pass the following variable as a keyword arg: x. From version 0.12, the only valid positional argument will be `data`, and passing other arguments without an explicit keyword will result in an error or misinterpretation.\n",
            "  FutureWarning\n"
          ]
        },
        {
          "output_type": "display_data",
          "data": {
            "image/png": "[encoded data removed]",
            "text/plain": [
              "<Figure size 1080x576 with 1 Axes>"
            ]
          },
          "metadata": {
            "needs_background": "light"
          }
        }
      ]
    },
    {
      "cell_type": "markdown",
      "source": [
        "Observations:\n",
        "\n",
        "1) In December 2020 most number of installations are done 7813.\n",
        "\n",
        "2) There was un upwards trend in intallations from May-2020 to December-2020. After that download trend is downward."
      ],
      "metadata": {
        "id": "UZtTSxSvM6h5"
      }
    },
    {
      "cell_type": "markdown",
      "source": [
        "#### Installations platform os wise"
      ],
      "metadata": {
        "id": "QtoBFlfps1NA"
      }
    },
    {
      "cell_type": "code",
      "source": [
        "plt.figure(figsize=(15,8))\n",
        "sns.countplot(df['install_month_year'].sort_values(),hue=df['platform_os'])\n",
        "plt.title(\"Countplot Monthwise download with OS Platfoms\")\n",
        "plt.xlabel('Year-Month')\n",
        "plt.ylabel('Number of Downloads')\n",
        "plt.show()"
      ],
      "metadata": {
        "colab": {
          "base_uri": "https://localhost:8080/",
          "height": 569
        },
        "id": "_6qDNyKFEwcU",
        "outputId": "9d556be5-441c-4ebe-c6b7-50647a355be4"
      },
      "execution_count": 29,
      "outputs": [
        {
          "output_type": "stream",
          "name": "stderr",
          "text": [
            "/usr/local/lib/python3.7/dist-packages/seaborn/_decorators.py:43: FutureWarning: Pass the following variable as a keyword arg: x. From version 0.12, the only valid positional argument will be `data`, and passing other arguments without an explicit keyword will result in an error or misinterpretation.\n",
            "  FutureWarning\n"
          ]
        },
        {
          "output_type": "display_data",
          "data": {
            "image/png": "[encoded data removed]",
            "text/plain": [
              "<Figure size 1080x576 with 1 Axes>"
            ]
          },
          "metadata": {
            "needs_background": "light"
          }
        }
      ]
    },
    {
      "cell_type": "markdown",
      "source": [
        "Observation:\n",
        "\n",
        "1) The total installations trends are replicated for andriod platform.\n",
        "\n",
        "2) The installations trend for ios platform is generally upwards with exceptions for month Dec-2020 and Feb-2021."
      ],
      "metadata": {
        "id": "IWwe23Y-UQW-"
      }
    },
    {
      "cell_type": "markdown",
      "source": [
        "### Number of active useres monthwise."
      ],
      "metadata": {
        "id": "zL-W2Y6ftg7j"
      }
    },
    {
      "cell_type": "code",
      "source": [
        "df['lastuse_month_year'].value_counts()"
      ],
      "metadata": {
        "colab": {
          "base_uri": "https://localhost:8080/"
        },
        "id": "-zLrhQx2URk8",
        "outputId": "bfcefa72-eb7c-4691-e20e-381f70317277"
      },
      "execution_count": 30,
      "outputs": [
        {
          "output_type": "execute_result",
          "data": {
            "text/plain": [
              "2021-01    7511\n",
              "2020-12    6455\n",
              "2021-02    6298\n",
              "2020-11    2314\n",
              "2020-10     896\n",
              "Name: lastuse_month_year, dtype: int64"
            ]
          },
          "metadata": {},
          "execution_count": 30
        }
      ]
    },
    {
      "cell_type": "code",
      "source": [
        "plt.figure(figsize=(15,8))\n",
        "sns.countplot(df['lastuse_month_year'].sort_values())\n",
        "plt.title(\"Countplot Monthwise Usage \")\n",
        "plt.xlabel('Year-Month')\n",
        "plt.ylabel('Number of Downloads')\n",
        "plt.show()"
      ],
      "metadata": {
        "colab": {
          "base_uri": "https://localhost:8080/",
          "height": 569
        },
        "id": "N4PYWO88D8XU",
        "outputId": "d317976b-ed16-45bc-ddcf-759a3e67c9f2"
      },
      "execution_count": 31,
      "outputs": [
        {
          "output_type": "stream",
          "name": "stderr",
          "text": [
            "/usr/local/lib/python3.7/dist-packages/seaborn/_decorators.py:43: FutureWarning: Pass the following variable as a keyword arg: x. From version 0.12, the only valid positional argument will be `data`, and passing other arguments without an explicit keyword will result in an error or misinterpretation.\n",
            "  FutureWarning\n"
          ]
        },
        {
          "output_type": "display_data",
          "data": {
            "image/png": "[encoded data removed]",
            "text/plain": [
              "<Figure size 1080x576 with 1 Axes>"
            ]
          },
          "metadata": {
            "needs_background": "light"
          }
        }
      ]
    },
    {
      "cell_type": "markdown",
      "source": [
        "For this analysis we used data from lastuse_month_year column.\n",
        "\n",
        "Observations:\n",
        "\n",
        "1) Number of active usage was most in Jan-2020 with 7511. The trend is generally upward.\n",
        "\n",
        "2) In Februry the usage was down to 6298."
      ],
      "metadata": {
        "id": "9KNREvRLtqAK"
      }
    },
    {
      "cell_type": "markdown",
      "source": [
        "#### Platform wise usage"
      ],
      "metadata": {
        "id": "GkWJtO-gupHo"
      }
    },
    {
      "cell_type": "code",
      "source": [
        "plt.figure(figsize=(15,8))\n",
        "sns.countplot(df['lastuse_month_year'].sort_values(),hue = df['platform_os'])\n",
        "plt.title(\"Countplot Monthwise Usage with OS Platfoms\")\n",
        "plt.xlabel('Year-Month')\n",
        "plt.ylabel('Number of Downloads')\n",
        "plt.show()"
      ],
      "metadata": {
        "colab": {
          "base_uri": "https://localhost:8080/",
          "height": 569
        },
        "id": "Wx44SpSsFxYA",
        "outputId": "170ff7c5-9ea4-495e-9a3e-6145ce440547"
      },
      "execution_count": 32,
      "outputs": [
        {
          "output_type": "stream",
          "name": "stderr",
          "text": [
            "/usr/local/lib/python3.7/dist-packages/seaborn/_decorators.py:43: FutureWarning: Pass the following variable as a keyword arg: x. From version 0.12, the only valid positional argument will be `data`, and passing other arguments without an explicit keyword will result in an error or misinterpretation.\n",
            "  FutureWarning\n"
          ]
        },
        {
          "output_type": "display_data",
          "data": {
            "image/png": "[encoded data removed]",
            "text/plain": [
              "<Figure size 1080x576 with 1 Axes>"
            ]
          },
          "metadata": {
            "needs_background": "light"
          }
        }
      ]
    },
    {
      "cell_type": "markdown",
      "source": [
        "Observation:\n",
        "\n",
        "This plot replicates the same obseravtion on usage trend as total number of active users month wise"
      ],
      "metadata": {
        "id": "FDfPsnikvRxY"
      }
    },
    {
      "cell_type": "markdown",
      "source": [
        "### Boxplot on Installed Hours"
      ],
      "metadata": {
        "id": "cU5zCxWvwrtB"
      }
    },
    {
      "cell_type": "code",
      "source": [
        "sns.boxplot(df['Installed_hrs'])\n",
        "plt.title(\"Boxplot of installed Hours\")\n",
        "plt.xlabel('Installed Hours')\n",
        "plt.show()"
      ],
      "metadata": {
        "colab": {
          "base_uri": "https://localhost:8080/",
          "height": 351
        },
        "id": "K0ER_KipENYT",
        "outputId": "53c40bc8-e434-40dc-d8f9-d266d59527ab"
      },
      "execution_count": 33,
      "outputs": [
        {
          "output_type": "stream",
          "name": "stderr",
          "text": [
            "/usr/local/lib/python3.7/dist-packages/seaborn/_decorators.py:43: FutureWarning: Pass the following variable as a keyword arg: x. From version 0.12, the only valid positional argument will be `data`, and passing other arguments without an explicit keyword will result in an error or misinterpretation.\n",
            "  FutureWarning\n"
          ]
        },
        {
          "output_type": "display_data",
          "data": {
            "image/png": "[encoded data removed]",
            "text/plain": [
              "<Figure size 432x288 with 1 Axes>"
            ]
          },
          "metadata": {
            "needs_background": "light"
          }
        }
      ]
    },
    {
      "cell_type": "code",
      "source": [
        "df['Installed_hrs'].describe()"
      ],
      "metadata": {
        "colab": {
          "base_uri": "https://localhost:8080/"
        },
        "id": "bfBpqsAfxgXv",
        "outputId": "64675944-b60b-4b19-85a5-b3a6bb38fac0"
      },
      "execution_count": 34,
      "outputs": [
        {
          "output_type": "execute_result",
          "data": {
            "text/plain": [
              "count    23474.000000\n",
              "mean         9.332183\n",
              "std          8.486892\n",
              "min          0.000000\n",
              "25%          0.650417\n",
              "50%          6.925556\n",
              "75%         17.818611\n",
              "max         23.998889\n",
              "Name: Installed_hrs, dtype: float64"
            ]
          },
          "metadata": {},
          "execution_count": 34
        }
      ]
    },
    {
      "cell_type": "markdown",
      "source": [
        "Observations:\n",
        "\n",
        "1) The maximum value of intalled hours is 24 hours while minmum is 0 hrs.\n",
        "\n",
        "2) The median of intalled hours is 6.92 hrs and mean is 9.33 hours.\n",
        "\n"
      ],
      "metadata": {
        "id": "PhKdK17UxUl7"
      }
    },
    {
      "cell_type": "markdown",
      "source": [
        "### Top 15 Cities downloadwise"
      ],
      "metadata": {
        "id": "N4vEm006yL6U"
      }
    },
    {
      "cell_type": "code",
      "source": [
        "df['city'].value_counts()[:15]"
      ],
      "metadata": {
        "colab": {
          "base_uri": "https://localhost:8080/"
        },
        "id": "lY26Fpu8eGUp",
        "outputId": "a33b598e-b806-4ac8-8c99-b1c3211916a9"
      },
      "execution_count": 35,
      "outputs": [
        {
          "output_type": "execute_result",
          "data": {
            "text/plain": [
              "Pune                3002\n",
              "Indore              1471\n",
              "Mumbai              1232\n",
              "Ahmedabad           1178\n",
              "Pimpri-Chinchwad     968\n",
              "Jaipur               966\n",
              "Lucknow              933\n",
              "Patna                906\n",
              "Delhi                874\n",
              "Agra                 868\n",
              "Meerut               659\n",
              "Aligarh              512\n",
              "Bhopal               501\n",
              "Bengaluru            409\n",
              "Raipur               374\n",
              "Name: city, dtype: int64"
            ]
          },
          "metadata": {},
          "execution_count": 35
        }
      ]
    },
    {
      "cell_type": "code",
      "source": [
        "df['city'].value_counts()[:15].plot(kind='bar', colormap='ocean')\n",
        "plt.title(\"Barplot of Top 15 Cities download wise\")\n",
        "plt.xlabel('Cities')\n",
        "plt.ylabel('Number of Downloads')\n",
        "plt.show()"
      ],
      "metadata": {
        "colab": {
          "base_uri": "https://localhost:8080/",
          "height": 375
        },
        "id": "vJ2Sku7Bc--n",
        "outputId": "66c38caf-7eeb-4439-9bfb-c51c434f75d4"
      },
      "execution_count": 36,
      "outputs": [
        {
          "output_type": "display_data",
          "data": {
            "image/png": "[encoded data removed]",
            "text/plain": [
              "<Figure size 432x288 with 1 Axes>"
            ]
          },
          "metadata": {
            "needs_background": "light"
          }
        }
      ]
    },
    {
      "cell_type": "markdown",
      "source": [
        "Observations:\n",
        "\n",
        "1) The app was downloaded most in Pune City. Follwoeed by Indore Ahmedabad, Mumbai and Pimpari Chinchwad.\n",
        "\n",
        "2) The most downloads in pune were 3000."
      ],
      "metadata": {
        "id": "dXsHdwZ_yYIh"
      }
    },
    {
      "cell_type": "markdown",
      "source": [
        "### Top 15 Regions download wise"
      ],
      "metadata": {
        "id": "O_R6GBhe233Y"
      }
    },
    {
      "cell_type": "code",
      "source": [
        "df['region'].value_counts()[:15]"
      ],
      "metadata": {
        "colab": {
          "base_uri": "https://localhost:8080/"
        },
        "id": "HltT96OmfCkN",
        "outputId": "07d5eb90-a608-4d47-f53a-77c3f4c6f953"
      },
      "execution_count": 37,
      "outputs": [
        {
          "output_type": "execute_result",
          "data": {
            "text/plain": [
              "Maharashtra       6798\n",
              "Uttar Pradesh     4602\n",
              "Madhya Pradesh    2536\n",
              "Gujarat           1544\n",
              "Rajasthan         1146\n",
              "Bihar             1096\n",
              "Delhi              993\n",
              "Haryana            663\n",
              "Uttarakhand        543\n",
              "Chhattisgarh       510\n",
              "West Bengal        400\n",
              "Karnataka          391\n",
              "Punjab             369\n",
              "Kerala             334\n",
              "Telangana          284\n",
              "Name: region, dtype: int64"
            ]
          },
          "metadata": {},
          "execution_count": 37
        }
      ]
    },
    {
      "cell_type": "code",
      "source": [
        "df['region'].value_counts()[:15].plot(kind='bar', colormap='rainbow')\n",
        "plt.title(\"Barplot of Top 15 Regions download wise\")\n",
        "plt.xlabel('Regions')\n",
        "plt.ylabel('Number of Downloads')"
      ],
      "metadata": {
        "colab": {
          "base_uri": "https://localhost:8080/",
          "height": 386
        },
        "id": "rqK0NE5XfOpZ",
        "outputId": "1b1f5b0d-e26d-4b48-db2c-52e335e3fe61"
      },
      "execution_count": 38,
      "outputs": [
        {
          "output_type": "execute_result",
          "data": {
            "text/plain": [
              "Text(0, 0.5, 'Number of Downloads')"
            ]
          },
          "metadata": {},
          "execution_count": 38
        },
        {
          "output_type": "display_data",
          "data": {
            "image/png": "[encoded data removed]",
            "text/plain": [
              "<Figure size 432x288 with 1 Axes>"
            ]
          },
          "metadata": {
            "needs_background": "light"
          }
        }
      ]
    },
    {
      "cell_type": "markdown",
      "source": [
        "Observations:\n",
        "\n",
        "1) Maharshtra had most downloads in the region columns. Followed by Uttar Pradesh, Madhya Pradesh, Gujrat and Rajashan completing top 5 spaces.\n",
        "\n",
        "2) Mahrashtra had most downloads of 6798. While Uttar Pradesh had 4602 downloads."
      ],
      "metadata": {
        "id": "Ut9w2-vT2-Qa"
      }
    },
    {
      "cell_type": "markdown",
      "source": [
        "### Country wise downloads data"
      ],
      "metadata": {
        "id": "WwPciXPg3eGX"
      }
    },
    {
      "cell_type": "code",
      "source": [
        "df['country'].value_counts()"
      ],
      "metadata": {
        "colab": {
          "base_uri": "https://localhost:8080/"
        },
        "id": "9LLVIOOxk7z8",
        "outputId": "658ec65c-9f29-4606-bca8-6b5e04e85468"
      },
      "execution_count": 39,
      "outputs": [
        {
          "output_type": "execute_result",
          "data": {
            "text/plain": [
              "India                   23193\n",
              "United Kingdom            161\n",
              "France                     69\n",
              "United States              27\n",
              "Netherlands                10\n",
              "Malawi                      9\n",
              "United Arab Emirates        5\n",
              "Name: country, dtype: int64"
            ]
          },
          "metadata": {},
          "execution_count": 39
        }
      ]
    },
    {
      "cell_type": "code",
      "source": [
        "df['country'].value_counts().plot(kind='bar', colormap='prism')\n",
        "plt.title(\"Barplot o Countries download wise\")\n",
        "plt.xlabel('Countries')\n",
        "plt.ylabel('Number of Downloads')"
      ],
      "metadata": {
        "colab": {
          "base_uri": "https://localhost:8080/",
          "height": 410
        },
        "id": "U3NEs7Mjk_Y2",
        "outputId": "7837742a-8b01-4e3c-8183-9f3ecbc64783"
      },
      "execution_count": 40,
      "outputs": [
        {
          "output_type": "execute_result",
          "data": {
            "text/plain": [
              "Text(0, 0.5, 'Number of Downloads')"
            ]
          },
          "metadata": {},
          "execution_count": 40
        },
        {
          "output_type": "display_data",
          "data": {
            "image/png": "[encoded data removed]",
            "text/plain": [
              "<Figure size 432x288 with 1 Axes>"
            ]
          },
          "metadata": {
            "needs_background": "light"
          }
        }
      ]
    },
    {
      "cell_type": "markdown",
      "source": [
        "Observation:\n",
        "\n",
        "most of the downloads were from India only. But there were total 6 other countries from where app was downloaded in small numbers."
      ],
      "metadata": {
        "id": "e0j_lA9X3mhh"
      }
    },
    {
      "cell_type": "markdown",
      "source": [
        "## Conslusions:\n",
        "\n",
        "1) The app was downloaded for 25660 times for anlysis we considered 23474 after data processing.\n",
        "\n",
        "2) App was dowloaded most in Pune in city category and in Maharshtra in Region category.\n",
        "\n",
        "3) Most of the useres are from India while there is a small presence in 6 other countries\n",
        "\n",
        "4) The number of unique users was 2379.\n",
        "\n",
        "5) The app download trend was generally upward with recent months showing downward trend.\n",
        "\n",
        "6) The total usge hours is max 24 hours with average of 9 hours.\n",
        "\n",
        "7) Andriod platform had most downloads than ios platform and difference is huge as ios is just 4% of total downloads."
      ],
      "metadata": {
        "id": "ZPhXBB-C35ON"
      }
    }
  ]
}