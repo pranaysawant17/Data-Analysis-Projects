{
  "nbformat": 4,
  "nbformat_minor": 0,
  "metadata": {
    "colab": {
      "name": "One Piece.ipynb",
      "provenance": [],
      "collapsed_sections": [],
      "authorship_tag": "ABX9TyO4lAxHU4gsQGsZsrijni6g",
      "include_colab_link": true
    },
    "kernelspec": {
      "name": "python3",
      "display_name": "Python 3"
    },
    "language_info": {
      "name": "python"
    }
  },
  "cells": [
    {
      "cell_type": "markdown",
      "metadata": {
        "id": "view-in-github",
        "colab_type": "text"
      },
      "source": [
        "<a href=\"https://colab.research.google.com/github/pranaysawant17/Python-Projects/blob/main/One_Piece.ipynb\" target=\"_parent\"><img src=\"https://colab.research.google.com/assets/colab-badge.svg\" alt=\"Open In Colab\"/></a>"
      ]
    },
    {
      "cell_type": "markdown",
      "source": [
        "One Piece (stylized as ONE PIECE) is a Japanese anime television series based on Eiichiro Oda's manga series of the same name. The story follows the adventures of Monkey D. Luffy, a boy whose body gained the properties of rubber after unintentionally eating a Devil Fruit. With his crew of pirates, named the Straw Hat Pirates, Luffy explores the Grand Line in search of the world's ultimate treasure known as \"One Piece\" in order to become the next Pirate King. "
      ],
      "metadata": {
        "id": "eQTGba5IsoaK"
      }
    },
    {
      "cell_type": "markdown",
      "source": [
        "Importing necessary libraries"
      ],
      "metadata": {
        "id": "9zdhDFLSjcN_"
      }
    },
    {
      "cell_type": "code",
      "execution_count": null,
      "metadata": {
        "id": "aN4SsIorhtZK"
      },
      "outputs": [],
      "source": [
        "import pandas as pd\n",
        "import numpy as np\n",
        "import matplotlib.pyplot as plt\n",
        "import seaborn as sns\n",
        "%matplotlib inline"
      ]
    },
    {
      "cell_type": "markdown",
      "source": [
        "Loading Data"
      ],
      "metadata": {
        "id": "IMIEBI-5jnZ0"
      }
    },
    {
      "cell_type": "code",
      "source": [
        "op = pd.read_csv(\"/content/ONE PIECE.csv\", index_col=0)\n",
        "op.head()"
      ],
      "metadata": {
        "colab": {
          "base_uri": "https://localhost:8080/",
          "height": 206
        },
        "id": "vSHf3rP4ja3L",
        "outputId": "355ba9d3-cd70-4aea-af8b-b8a324d1aca1"
      },
      "execution_count": null,
      "outputs": [
        {
          "output_type": "execute_result",
          "data": {
            "text/html": [
              "\n",
              "  <div id=\"df-07c23b55-eaf4-4ad5-b370-40ec74e4dba2\">\n",
              "    <div class=\"colab-df-container\">\n",
              "      <div>\n",
              "<style scoped>\n",
              "    .dataframe tbody tr th:only-of-type {\n",
              "        vertical-align: middle;\n",
              "    }\n",
              "\n",
              "    .dataframe tbody tr th {\n",
              "        vertical-align: top;\n",
              "    }\n",
              "\n",
              "    .dataframe thead th {\n",
              "        text-align: right;\n",
              "    }\n",
              "</style>\n",
              "<table border=\"1\" class=\"dataframe\">\n",
              "  <thead>\n",
              "    <tr style=\"text-align: right;\">\n",
              "      <th></th>\n",
              "      <th>rank</th>\n",
              "      <th>trend</th>\n",
              "      <th>season</th>\n",
              "      <th>episode</th>\n",
              "      <th>name</th>\n",
              "      <th>start</th>\n",
              "      <th>total_votes</th>\n",
              "      <th>average_rating</th>\n",
              "    </tr>\n",
              "  </thead>\n",
              "  <tbody>\n",
              "    <tr>\n",
              "      <th>0</th>\n",
              "      <td>24,129</td>\n",
              "      <td>18</td>\n",
              "      <td>1</td>\n",
              "      <td>1</td>\n",
              "      <td>I'm Luffy! The Man Who Will Become the Pirate ...</td>\n",
              "      <td>1999</td>\n",
              "      <td>647</td>\n",
              "      <td>7.6</td>\n",
              "    </tr>\n",
              "    <tr>\n",
              "      <th>1</th>\n",
              "      <td>29,290</td>\n",
              "      <td>11</td>\n",
              "      <td>1</td>\n",
              "      <td>2</td>\n",
              "      <td>The Great Swordsman Appears! Pirate Hunter, Ro...</td>\n",
              "      <td>1999</td>\n",
              "      <td>473</td>\n",
              "      <td>7.8</td>\n",
              "    </tr>\n",
              "    <tr>\n",
              "      <th>2</th>\n",
              "      <td>32,043</td>\n",
              "      <td>7</td>\n",
              "      <td>1</td>\n",
              "      <td>3</td>\n",
              "      <td>Morgan vs. Luffy! Who's This Beautiful Young G...</td>\n",
              "      <td>1999</td>\n",
              "      <td>428</td>\n",
              "      <td>7.7</td>\n",
              "    </tr>\n",
              "    <tr>\n",
              "      <th>3</th>\n",
              "      <td>28,818</td>\n",
              "      <td>8</td>\n",
              "      <td>1</td>\n",
              "      <td>4</td>\n",
              "      <td>Luffy's Past! The Red-haired Shanks Appears!</td>\n",
              "      <td>1999</td>\n",
              "      <td>449</td>\n",
              "      <td>8.1</td>\n",
              "    </tr>\n",
              "    <tr>\n",
              "      <th>4</th>\n",
              "      <td>37,113</td>\n",
              "      <td>4</td>\n",
              "      <td>1</td>\n",
              "      <td>5</td>\n",
              "      <td>Fear, Mysterious Power! Pirate Clown Captain B...</td>\n",
              "      <td>1999</td>\n",
              "      <td>370</td>\n",
              "      <td>7.5</td>\n",
              "    </tr>\n",
              "  </tbody>\n",
              "</table>\n",
              "</div>\n",
              "      <button class=\"colab-df-convert\" onclick=\"convertToInteractive('df-07c23b55-eaf4-4ad5-b370-40ec74e4dba2')\"\n",
              "              title=\"Convert this dataframe to an interactive table.\"\n",
              "              style=\"display:none;\">\n",
              "        \n",
              "  <svg xmlns=\"http://www.w3.org/2000/svg\" height=\"24px\"viewBox=\"0 0 24 24\"\n",
              "       width=\"24px\">\n",
              "    <path d=\"M0 0h24v24H0V0z\" fill=\"none\"/>\n",
              "    <path d=\"M18.56 5.44l.94 2.06.94-2.06 2.06-.94-2.06-.94-.94-2.06-.94 2.06-2.06.94zm-11 1L8.5 8.5l.94-2.06 2.06-.94-2.06-.94L8.5 2.5l-.94 2.06-2.06.94zm10 10l.94 2.06.94-2.06 2.06-.94-2.06-.94-.94-2.06-.94 2.06-2.06.94z\"/><path d=\"M17.41 7.96l-1.37-1.37c-.4-.4-.92-.59-1.43-.59-.52 0-1.04.2-1.43.59L10.3 9.45l-7.72 7.72c-.78.78-.78 2.05 0 2.83L4 21.41c.39.39.9.59 1.41.59.51 0 1.02-.2 1.41-.59l7.78-7.78 2.81-2.81c.8-.78.8-2.07 0-2.86zM5.41 20L4 18.59l7.72-7.72 1.47 1.35L5.41 20z\"/>\n",
              "  </svg>\n",
              "      </button>\n",
              "      \n",
              "  <style>\n",
              "    .colab-df-container {\n",
              "      display:flex;\n",
              "      flex-wrap:wrap;\n",
              "      gap: 12px;\n",
              "    }\n",
              "\n",
              "    .colab-df-convert {\n",
              "      background-color: #E8F0FE;\n",
              "      border: none;\n",
              "      border-radius: 50%;\n",
              "      cursor: pointer;\n",
              "      display: none;\n",
              "      fill: #1967D2;\n",
              "      height: 32px;\n",
              "      padding: 0 0 0 0;\n",
              "      width: 32px;\n",
              "    }\n",
              "\n",
              "    .colab-df-convert:hover {\n",
              "      background-color: #E2EBFA;\n",
              "      box-shadow: 0px 1px 2px rgba(60, 64, 67, 0.3), 0px 1px 3px 1px rgba(60, 64, 67, 0.15);\n",
              "      fill: #174EA6;\n",
              "    }\n",
              "\n",
              "    [theme=dark] .colab-df-convert {\n",
              "      background-color: #3B4455;\n",
              "      fill: #D2E3FC;\n",
              "    }\n",
              "\n",
              "    [theme=dark] .colab-df-convert:hover {\n",
              "      background-color: #434B5C;\n",
              "      box-shadow: 0px 1px 3px 1px rgba(0, 0, 0, 0.15);\n",
              "      filter: drop-shadow(0px 1px 2px rgba(0, 0, 0, 0.3));\n",
              "      fill: #FFFFFF;\n",
              "    }\n",
              "  </style>\n",
              "\n",
              "      <script>\n",
              "        const buttonEl =\n",
              "          document.querySelector('#df-07c23b55-eaf4-4ad5-b370-40ec74e4dba2 button.colab-df-convert');\n",
              "        buttonEl.style.display =\n",
              "          google.colab.kernel.accessAllowed ? 'block' : 'none';\n",
              "\n",
              "        async function convertToInteractive(key) {\n",
              "          const element = document.querySelector('#df-07c23b55-eaf4-4ad5-b370-40ec74e4dba2');\n",
              "          const dataTable =\n",
              "            await google.colab.kernel.invokeFunction('convertToInteractive',\n",
              "                                                     [key], {});\n",
              "          if (!dataTable) return;\n",
              "\n",
              "          const docLinkHtml = 'Like what you see? Visit the ' +\n",
              "            '<a target=\"_blank\" href=https://colab.research.google.com/notebooks/data_table.ipynb>data table notebook</a>'\n",
              "            + ' to learn more about interactive tables.';\n",
              "          element.innerHTML = '';\n",
              "          dataTable['output_type'] = 'display_data';\n",
              "          await google.colab.output.renderOutput(dataTable, element);\n",
              "          const docLink = document.createElement('div');\n",
              "          docLink.innerHTML = docLinkHtml;\n",
              "          element.appendChild(docLink);\n",
              "        }\n",
              "      </script>\n",
              "    </div>\n",
              "  </div>\n",
              "  "
            ],
            "text/plain": [
              "     rank trend  season  ...  start total_votes  average_rating\n",
              "0  24,129    18       1  ...   1999         647             7.6\n",
              "1  29,290    11       1  ...   1999         473             7.8\n",
              "2  32,043     7       1  ...   1999         428             7.7\n",
              "3  28,818     8       1  ...   1999         449             8.1\n",
              "4  37,113     4       1  ...   1999         370             7.5\n",
              "\n",
              "[5 rows x 8 columns]"
            ]
          },
          "metadata": {},
          "execution_count": 92
        }
      ]
    },
    {
      "cell_type": "code",
      "source": [
        "op.columns= ['Rank', 'Trend', 'Season', 'Episode', 'Name','Start','Total Votes','Average Rating']"
      ],
      "metadata": {
        "id": "rTuKKXHCj0L2"
      },
      "execution_count": null,
      "outputs": []
    },
    {
      "cell_type": "code",
      "source": [
        "op.head(2)"
      ],
      "metadata": {
        "colab": {
          "base_uri": "https://localhost:8080/",
          "height": 112
        },
        "id": "72FcVEilkm34",
        "outputId": "40e1f6b3-7df4-4216-fcbd-29280c2ef656"
      },
      "execution_count": null,
      "outputs": [
        {
          "output_type": "execute_result",
          "data": {
            "text/html": [
              "\n",
              "  <div id=\"df-fcef8b4d-c894-4350-9372-9838b922d2c8\">\n",
              "    <div class=\"colab-df-container\">\n",
              "      <div>\n",
              "<style scoped>\n",
              "    .dataframe tbody tr th:only-of-type {\n",
              "        vertical-align: middle;\n",
              "    }\n",
              "\n",
              "    .dataframe tbody tr th {\n",
              "        vertical-align: top;\n",
              "    }\n",
              "\n",
              "    .dataframe thead th {\n",
              "        text-align: right;\n",
              "    }\n",
              "</style>\n",
              "<table border=\"1\" class=\"dataframe\">\n",
              "  <thead>\n",
              "    <tr style=\"text-align: right;\">\n",
              "      <th></th>\n",
              "      <th>Rank</th>\n",
              "      <th>Trend</th>\n",
              "      <th>Season</th>\n",
              "      <th>Episode</th>\n",
              "      <th>Name</th>\n",
              "      <th>Start</th>\n",
              "      <th>Total Votes</th>\n",
              "      <th>Average Rating</th>\n",
              "    </tr>\n",
              "  </thead>\n",
              "  <tbody>\n",
              "    <tr>\n",
              "      <th>0</th>\n",
              "      <td>24,129</td>\n",
              "      <td>18</td>\n",
              "      <td>1</td>\n",
              "      <td>1</td>\n",
              "      <td>I'm Luffy! The Man Who Will Become the Pirate ...</td>\n",
              "      <td>1999</td>\n",
              "      <td>647</td>\n",
              "      <td>7.6</td>\n",
              "    </tr>\n",
              "    <tr>\n",
              "      <th>1</th>\n",
              "      <td>29,290</td>\n",
              "      <td>11</td>\n",
              "      <td>1</td>\n",
              "      <td>2</td>\n",
              "      <td>The Great Swordsman Appears! Pirate Hunter, Ro...</td>\n",
              "      <td>1999</td>\n",
              "      <td>473</td>\n",
              "      <td>7.8</td>\n",
              "    </tr>\n",
              "  </tbody>\n",
              "</table>\n",
              "</div>\n",
              "      <button class=\"colab-df-convert\" onclick=\"convertToInteractive('df-fcef8b4d-c894-4350-9372-9838b922d2c8')\"\n",
              "              title=\"Convert this dataframe to an interactive table.\"\n",
              "              style=\"display:none;\">\n",
              "        \n",
              "  <svg xmlns=\"http://www.w3.org/2000/svg\" height=\"24px\"viewBox=\"0 0 24 24\"\n",
              "       width=\"24px\">\n",
              "    <path d=\"M0 0h24v24H0V0z\" fill=\"none\"/>\n",
              "    <path d=\"M18.56 5.44l.94 2.06.94-2.06 2.06-.94-2.06-.94-.94-2.06-.94 2.06-2.06.94zm-11 1L8.5 8.5l.94-2.06 2.06-.94-2.06-.94L8.5 2.5l-.94 2.06-2.06.94zm10 10l.94 2.06.94-2.06 2.06-.94-2.06-.94-.94-2.06-.94 2.06-2.06.94z\"/><path d=\"M17.41 7.96l-1.37-1.37c-.4-.4-.92-.59-1.43-.59-.52 0-1.04.2-1.43.59L10.3 9.45l-7.72 7.72c-.78.78-.78 2.05 0 2.83L4 21.41c.39.39.9.59 1.41.59.51 0 1.02-.2 1.41-.59l7.78-7.78 2.81-2.81c.8-.78.8-2.07 0-2.86zM5.41 20L4 18.59l7.72-7.72 1.47 1.35L5.41 20z\"/>\n",
              "  </svg>\n",
              "      </button>\n",
              "      \n",
              "  <style>\n",
              "    .colab-df-container {\n",
              "      display:flex;\n",
              "      flex-wrap:wrap;\n",
              "      gap: 12px;\n",
              "    }\n",
              "\n",
              "    .colab-df-convert {\n",
              "      background-color: #E8F0FE;\n",
              "      border: none;\n",
              "      border-radius: 50%;\n",
              "      cursor: pointer;\n",
              "      display: none;\n",
              "      fill: #1967D2;\n",
              "      height: 32px;\n",
              "      padding: 0 0 0 0;\n",
              "      width: 32px;\n",
              "    }\n",
              "\n",
              "    .colab-df-convert:hover {\n",
              "      background-color: #E2EBFA;\n",
              "      box-shadow: 0px 1px 2px rgba(60, 64, 67, 0.3), 0px 1px 3px 1px rgba(60, 64, 67, 0.15);\n",
              "      fill: #174EA6;\n",
              "    }\n",
              "\n",
              "    [theme=dark] .colab-df-convert {\n",
              "      background-color: #3B4455;\n",
              "      fill: #D2E3FC;\n",
              "    }\n",
              "\n",
              "    [theme=dark] .colab-df-convert:hover {\n",
              "      background-color: #434B5C;\n",
              "      box-shadow: 0px 1px 3px 1px rgba(0, 0, 0, 0.15);\n",
              "      filter: drop-shadow(0px 1px 2px rgba(0, 0, 0, 0.3));\n",
              "      fill: #FFFFFF;\n",
              "    }\n",
              "  </style>\n",
              "\n",
              "      <script>\n",
              "        const buttonEl =\n",
              "          document.querySelector('#df-fcef8b4d-c894-4350-9372-9838b922d2c8 button.colab-df-convert');\n",
              "        buttonEl.style.display =\n",
              "          google.colab.kernel.accessAllowed ? 'block' : 'none';\n",
              "\n",
              "        async function convertToInteractive(key) {\n",
              "          const element = document.querySelector('#df-fcef8b4d-c894-4350-9372-9838b922d2c8');\n",
              "          const dataTable =\n",
              "            await google.colab.kernel.invokeFunction('convertToInteractive',\n",
              "                                                     [key], {});\n",
              "          if (!dataTable) return;\n",
              "\n",
              "          const docLinkHtml = 'Like what you see? Visit the ' +\n",
              "            '<a target=\"_blank\" href=https://colab.research.google.com/notebooks/data_table.ipynb>data table notebook</a>'\n",
              "            + ' to learn more about interactive tables.';\n",
              "          element.innerHTML = '';\n",
              "          dataTable['output_type'] = 'display_data';\n",
              "          await google.colab.output.renderOutput(dataTable, element);\n",
              "          const docLink = document.createElement('div');\n",
              "          docLink.innerHTML = docLinkHtml;\n",
              "          element.appendChild(docLink);\n",
              "        }\n",
              "      </script>\n",
              "    </div>\n",
              "  </div>\n",
              "  "
            ],
            "text/plain": [
              "     Rank Trend  Season  ...  Start Total Votes  Average Rating\n",
              "0  24,129    18       1  ...   1999         647             7.6\n",
              "1  29,290    11       1  ...   1999         473             7.8\n",
              "\n",
              "[2 rows x 8 columns]"
            ]
          },
          "metadata": {},
          "execution_count": 94
        }
      ]
    },
    {
      "cell_type": "markdown",
      "source": [
        "One Piece (stylized as ONE PIECE) is a Japanese anime television series based on Eiichiro Oda's manga series of the same name. The story follows the adventures of Monkey D. Luffy, a boy whose body gained the properties of rubber after unintentionally eating a Devil Fruit. With his crew of pirates, named the Straw Hat Pirates, Luffy explores the Grand Line in search of the world's ultimate treasure known as \"One Piece\" in order to become the next Pirate King.\n",
        "\n",
        "It contains following columns:\n",
        "Rank: It shows episode ranking compared to others shows.\n",
        "Trend: Tt shows debut day rating \n",
        "Season: Shows season number\n",
        "Episode: Shows the episode number\n",
        "Name: Shows episode name\n",
        "Start: Year of episode publish\n",
        "Total Votes: Nummber of votes recieved by the episode\n",
        "Average Rating: Total rating recieved by the episode."
      ],
      "metadata": {
        "id": "pIcj-2udtMRQ"
      }
    },
    {
      "cell_type": "markdown",
      "source": [
        "Descriptive stats"
      ],
      "metadata": {
        "id": "9-qGigWdnsN9"
      }
    },
    {
      "cell_type": "code",
      "source": [
        "print('Number of rows in dataset', op.shape[0])\n",
        "print('Number of columns in dataset', op.shape[1])"
      ],
      "metadata": {
        "colab": {
          "base_uri": "https://localhost:8080/"
        },
        "id": "VKBwAnJ2mbCO",
        "outputId": "463d3649-122c-47be-af49-37def0dab4e8"
      },
      "execution_count": null,
      "outputs": [
        {
          "output_type": "stream",
          "name": "stdout",
          "text": [
            "Number of rows in dataset 958\n",
            "Number of columns in dataset 8\n"
          ]
        }
      ]
    },
    {
      "cell_type": "markdown",
      "source": [
        "The dataset contains info about 958 episode of the shows."
      ],
      "metadata": {
        "id": "ZWT7_JWpw34c"
      }
    },
    {
      "cell_type": "code",
      "source": [
        "op.dtypes"
      ],
      "metadata": {
        "colab": {
          "base_uri": "https://localhost:8080/"
        },
        "id": "yfTMvNK9o0fj",
        "outputId": "0717484a-198f-4739-8b24-5619e0481f8d"
      },
      "execution_count": null,
      "outputs": [
        {
          "output_type": "execute_result",
          "data": {
            "text/plain": [
              "Rank               object\n",
              "Trend              object\n",
              "Season              int64\n",
              "Episode             int64\n",
              "Name               object\n",
              "Start               int64\n",
              "Total Votes        object\n",
              "Average Rating    float64\n",
              "dtype: object"
            ]
          },
          "metadata": {},
          "execution_count": 96
        }
      ]
    },
    {
      "cell_type": "markdown",
      "source": [
        "We can see three columns with Object datatypes. Except name column other column data type needs to be changed to integer to perform further analysis."
      ],
      "metadata": {
        "id": "uCbDKpbzxErK"
      }
    },
    {
      "cell_type": "markdown",
      "source": [
        "We will see the unique values in Trend and Total Votes column."
      ],
      "metadata": {
        "id": "KUGKupkfpmDh"
      }
    },
    {
      "cell_type": "code",
      "source": [
        "op.Trend.unique()"
      ],
      "metadata": {
        "colab": {
          "base_uri": "https://localhost:8080/"
        },
        "id": "Kw6aHhVOpAoq",
        "outputId": "bb096489-e569-4716-fb75-95c1e285c59f"
      },
      "execution_count": null,
      "outputs": [
        {
          "output_type": "execute_result",
          "data": {
            "text/plain": [
              "array(['18', '11', '7', '8', '4', '6', '5', '3', '2', '1', '-', '15',\n",
              "       '12', '20', '24', '10', '29', '58', '23', '37', '14', '17', '9',\n",
              "       '21', '16', '22', '80', '32', '40', '28', '26', '44', '75', '964'],\n",
              "      dtype=object)"
            ]
          },
          "metadata": {},
          "execution_count": 97
        }
      ]
    },
    {
      "cell_type": "markdown",
      "source": [
        "We can observe that '-' is the reason for object datatype. We will further see the count of that symbol."
      ],
      "metadata": {
        "id": "OtTGzOEYxsvx"
      }
    },
    {
      "cell_type": "code",
      "source": [
        "op.Trend.value_counts()"
      ],
      "metadata": {
        "colab": {
          "base_uri": "https://localhost:8080/"
        },
        "id": "AG4m0eXzs1Yl",
        "outputId": "4541ddab-eda9-46df-ad24-e478ce1513d1"
      },
      "execution_count": null,
      "outputs": [
        {
          "output_type": "execute_result",
          "data": {
            "text/plain": [
              "-      374\n",
              "1      266\n",
              "2       98\n",
              "3       66\n",
              "4       40\n",
              "5       24\n",
              "6       19\n",
              "7       12\n",
              "8        8\n",
              "11       6\n",
              "12       5\n",
              "15       4\n",
              "16       4\n",
              "21       3\n",
              "14       3\n",
              "23       2\n",
              "9        2\n",
              "58       2\n",
              "20       2\n",
              "29       2\n",
              "10       2\n",
              "24       2\n",
              "75       1\n",
              "44       1\n",
              "40       1\n",
              "26       1\n",
              "28       1\n",
              "18       1\n",
              "32       1\n",
              "80       1\n",
              "22       1\n",
              "17       1\n",
              "37       1\n",
              "964      1\n",
              "Name: Trend, dtype: int64"
            ]
          },
          "metadata": {},
          "execution_count": 98
        }
      ]
    },
    {
      "cell_type": "markdown",
      "source": [
        "Since the count of'-' is large we cannot drop rows containing it. We will have to replace it."
      ],
      "metadata": {
        "id": "QyotjPzty1Vr"
      }
    },
    {
      "cell_type": "code",
      "source": [
        "op['Total Votes'].unique()"
      ],
      "metadata": {
        "colab": {
          "base_uri": "https://localhost:8080/"
        },
        "id": "SqpNPjTVqJms",
        "outputId": "ea241933-8859-4d08-80ad-d76cf989c6b2"
      },
      "execution_count": null,
      "outputs": [
        {
          "output_type": "execute_result",
          "data": {
            "text/plain": [
              "array(['647', '473', '428', '449', '370', '364', '344', '335', '327',\n",
              "       '314', '310', '303', '295', '292', '286', '296', '278', '324',\n",
              "       '279', '267', '260', '257', '340', '256', '274', '252', '249',\n",
              "       '268', '237', '236', '255', '250', '254', '277', '248', '247',\n",
              "       '281', '245', '235', '241', '253', '233', '225', '243', '213',\n",
              "       '211', '210', '207', '201', '199', '195', '215', '216', '206',\n",
              "       '214', '203', '205', '202', '204', '200', '197', '196', '189',\n",
              "       '191', '251', '194', '193', '190', '192', '217', '209', '185',\n",
              "       '180', '181', '177', '168', '179', '175', '187', '182', '188',\n",
              "       '176', '302', '178', '161', '156', '155', '151', '148', '145',\n",
              "       '150', '158', '160', '157', '163', '153', '231', '159', '152',\n",
              "       '154', '149', '173', '164', '174', '166', '143', '141', '142',\n",
              "       '137', '135', '139', '144', '146', '132', '134', '138', '131',\n",
              "       '147', '167', '172', '280', '126', '140', '136', '162', '129',\n",
              "       '271', '273', '184', '130', '133', '128', '127', '123', '125',\n",
              "       '124', '359', '358', '122', '118', '115', '116', '121', '186',\n",
              "       '218', '334', '524', '285', '171', '223', '117', '183', '120',\n",
              "       '119', '106', '109', '110', '114', '112', '113', '111', '169',\n",
              "       '102', '262', '328', '103', '105', '107', '101', '96', '95', '99',\n",
              "       '100', '97', '94', '87', '92', '89', '91', '82', '80', '84', '88',\n",
              "       '98', '86', '90', '85', '93', '571', '104', '242', '77', '83',\n",
              "       '78', '70', '76', '79', '81', '683', '108', '397', '321', '234',\n",
              "       '170', '297', '220', '407', '353', '2,862', '746'], dtype=object)"
            ]
          },
          "metadata": {},
          "execution_count": 99
        }
      ]
    },
    {
      "cell_type": "markdown",
      "source": [
        "From this we can see that '2,862' makes this column of object datatype. We need to remove ',' symbol so that we can convet whole column to integer type."
      ],
      "metadata": {
        "id": "zt36YTgWzGEj"
      }
    },
    {
      "cell_type": "code",
      "source": [
        "op.Start.unique()"
      ],
      "metadata": {
        "colab": {
          "base_uri": "https://localhost:8080/"
        },
        "id": "_YE8dzSko-Mj",
        "outputId": "acd20f80-0a7d-4f24-f495-7b311357af93"
      },
      "execution_count": null,
      "outputs": [
        {
          "output_type": "execute_result",
          "data": {
            "text/plain": [
              "array([1999, 2000, 2001, 2002, 2003, 2004, 2005, 2006, 2007, 2008, 2009,\n",
              "       2010, 2011, 2012, 2013, 2014, 2015, 2016, 2017, 2018, 2019, 2020,\n",
              "       2021])"
            ]
          },
          "metadata": {},
          "execution_count": 100
        }
      ]
    },
    {
      "cell_type": "markdown",
      "source": [
        "In this step we are checking unique values present in \"Start\" column."
      ],
      "metadata": {
        "id": "AoJeb-6fzf33"
      }
    },
    {
      "cell_type": "markdown",
      "source": [
        "In further steps we change the columns Total Votes , Rank and Trend to int datatype."
      ],
      "metadata": {
        "id": "oS9ab5zMzqvw"
      }
    },
    {
      "cell_type": "code",
      "source": [
        "op['Total Votes']= op['Total Votes'].str.replace(',','').astype(int)\n",
        "op.Rank= op.Rank.str.replace(',','').astype(int)\n",
        "op.Trend= op.Trend.str.replace('-','0').astype(int)"
      ],
      "metadata": {
        "id": "axQsUay7qYO-"
      },
      "execution_count": null,
      "outputs": []
    },
    {
      "cell_type": "code",
      "source": [
        "op.head(2)"
      ],
      "metadata": {
        "colab": {
          "base_uri": "https://localhost:8080/",
          "height": 112
        },
        "id": "hdyZ923ItivW",
        "outputId": "adb37655-b177-457d-9592-655edb651177"
      },
      "execution_count": null,
      "outputs": [
        {
          "output_type": "execute_result",
          "data": {
            "text/html": [
              "\n",
              "  <div id=\"df-67dd8ced-4308-4486-82de-bd41a86ef3af\">\n",
              "    <div class=\"colab-df-container\">\n",
              "      <div>\n",
              "<style scoped>\n",
              "    .dataframe tbody tr th:only-of-type {\n",
              "        vertical-align: middle;\n",
              "    }\n",
              "\n",
              "    .dataframe tbody tr th {\n",
              "        vertical-align: top;\n",
              "    }\n",
              "\n",
              "    .dataframe thead th {\n",
              "        text-align: right;\n",
              "    }\n",
              "</style>\n",
              "<table border=\"1\" class=\"dataframe\">\n",
              "  <thead>\n",
              "    <tr style=\"text-align: right;\">\n",
              "      <th></th>\n",
              "      <th>Rank</th>\n",
              "      <th>Trend</th>\n",
              "      <th>Season</th>\n",
              "      <th>Episode</th>\n",
              "      <th>Name</th>\n",
              "      <th>Start</th>\n",
              "      <th>Total Votes</th>\n",
              "      <th>Average Rating</th>\n",
              "    </tr>\n",
              "  </thead>\n",
              "  <tbody>\n",
              "    <tr>\n",
              "      <th>0</th>\n",
              "      <td>24129</td>\n",
              "      <td>18</td>\n",
              "      <td>1</td>\n",
              "      <td>1</td>\n",
              "      <td>I'm Luffy! The Man Who Will Become the Pirate ...</td>\n",
              "      <td>1999</td>\n",
              "      <td>647</td>\n",
              "      <td>7.6</td>\n",
              "    </tr>\n",
              "    <tr>\n",
              "      <th>1</th>\n",
              "      <td>29290</td>\n",
              "      <td>11</td>\n",
              "      <td>1</td>\n",
              "      <td>2</td>\n",
              "      <td>The Great Swordsman Appears! Pirate Hunter, Ro...</td>\n",
              "      <td>1999</td>\n",
              "      <td>473</td>\n",
              "      <td>7.8</td>\n",
              "    </tr>\n",
              "  </tbody>\n",
              "</table>\n",
              "</div>\n",
              "      <button class=\"colab-df-convert\" onclick=\"convertToInteractive('df-67dd8ced-4308-4486-82de-bd41a86ef3af')\"\n",
              "              title=\"Convert this dataframe to an interactive table.\"\n",
              "              style=\"display:none;\">\n",
              "        \n",
              "  <svg xmlns=\"http://www.w3.org/2000/svg\" height=\"24px\"viewBox=\"0 0 24 24\"\n",
              "       width=\"24px\">\n",
              "    <path d=\"M0 0h24v24H0V0z\" fill=\"none\"/>\n",
              "    <path d=\"M18.56 5.44l.94 2.06.94-2.06 2.06-.94-2.06-.94-.94-2.06-.94 2.06-2.06.94zm-11 1L8.5 8.5l.94-2.06 2.06-.94-2.06-.94L8.5 2.5l-.94 2.06-2.06.94zm10 10l.94 2.06.94-2.06 2.06-.94-2.06-.94-.94-2.06-.94 2.06-2.06.94z\"/><path d=\"M17.41 7.96l-1.37-1.37c-.4-.4-.92-.59-1.43-.59-.52 0-1.04.2-1.43.59L10.3 9.45l-7.72 7.72c-.78.78-.78 2.05 0 2.83L4 21.41c.39.39.9.59 1.41.59.51 0 1.02-.2 1.41-.59l7.78-7.78 2.81-2.81c.8-.78.8-2.07 0-2.86zM5.41 20L4 18.59l7.72-7.72 1.47 1.35L5.41 20z\"/>\n",
              "  </svg>\n",
              "      </button>\n",
              "      \n",
              "  <style>\n",
              "    .colab-df-container {\n",
              "      display:flex;\n",
              "      flex-wrap:wrap;\n",
              "      gap: 12px;\n",
              "    }\n",
              "\n",
              "    .colab-df-convert {\n",
              "      background-color: #E8F0FE;\n",
              "      border: none;\n",
              "      border-radius: 50%;\n",
              "      cursor: pointer;\n",
              "      display: none;\n",
              "      fill: #1967D2;\n",
              "      height: 32px;\n",
              "      padding: 0 0 0 0;\n",
              "      width: 32px;\n",
              "    }\n",
              "\n",
              "    .colab-df-convert:hover {\n",
              "      background-color: #E2EBFA;\n",
              "      box-shadow: 0px 1px 2px rgba(60, 64, 67, 0.3), 0px 1px 3px 1px rgba(60, 64, 67, 0.15);\n",
              "      fill: #174EA6;\n",
              "    }\n",
              "\n",
              "    [theme=dark] .colab-df-convert {\n",
              "      background-color: #3B4455;\n",
              "      fill: #D2E3FC;\n",
              "    }\n",
              "\n",
              "    [theme=dark] .colab-df-convert:hover {\n",
              "      background-color: #434B5C;\n",
              "      box-shadow: 0px 1px 3px 1px rgba(0, 0, 0, 0.15);\n",
              "      filter: drop-shadow(0px 1px 2px rgba(0, 0, 0, 0.3));\n",
              "      fill: #FFFFFF;\n",
              "    }\n",
              "  </style>\n",
              "\n",
              "      <script>\n",
              "        const buttonEl =\n",
              "          document.querySelector('#df-67dd8ced-4308-4486-82de-bd41a86ef3af button.colab-df-convert');\n",
              "        buttonEl.style.display =\n",
              "          google.colab.kernel.accessAllowed ? 'block' : 'none';\n",
              "\n",
              "        async function convertToInteractive(key) {\n",
              "          const element = document.querySelector('#df-67dd8ced-4308-4486-82de-bd41a86ef3af');\n",
              "          const dataTable =\n",
              "            await google.colab.kernel.invokeFunction('convertToInteractive',\n",
              "                                                     [key], {});\n",
              "          if (!dataTable) return;\n",
              "\n",
              "          const docLinkHtml = 'Like what you see? Visit the ' +\n",
              "            '<a target=\"_blank\" href=https://colab.research.google.com/notebooks/data_table.ipynb>data table notebook</a>'\n",
              "            + ' to learn more about interactive tables.';\n",
              "          element.innerHTML = '';\n",
              "          dataTable['output_type'] = 'display_data';\n",
              "          await google.colab.output.renderOutput(dataTable, element);\n",
              "          const docLink = document.createElement('div');\n",
              "          docLink.innerHTML = docLinkHtml;\n",
              "          element.appendChild(docLink);\n",
              "        }\n",
              "      </script>\n",
              "    </div>\n",
              "  </div>\n",
              "  "
            ],
            "text/plain": [
              "    Rank  Trend  Season  ...  Start Total Votes  Average Rating\n",
              "0  24129     18       1  ...   1999         647             7.6\n",
              "1  29290     11       1  ...   1999         473             7.8\n",
              "\n",
              "[2 rows x 8 columns]"
            ]
          },
          "metadata": {},
          "execution_count": 102
        }
      ]
    },
    {
      "cell_type": "code",
      "source": [
        "op.info()"
      ],
      "metadata": {
        "colab": {
          "base_uri": "https://localhost:8080/"
        },
        "id": "iQvF5RHUtoVq",
        "outputId": "208aec5b-c9b4-4403-cacb-0d06fc076596"
      },
      "execution_count": null,
      "outputs": [
        {
          "output_type": "stream",
          "name": "stdout",
          "text": [
            "<class 'pandas.core.frame.DataFrame'>\n",
            "Int64Index: 958 entries, 0 to 957\n",
            "Data columns (total 8 columns):\n",
            " #   Column          Non-Null Count  Dtype  \n",
            "---  ------          --------------  -----  \n",
            " 0   Rank            958 non-null    int64  \n",
            " 1   Trend           958 non-null    int64  \n",
            " 2   Season          958 non-null    int64  \n",
            " 3   Episode         958 non-null    int64  \n",
            " 4   Name            958 non-null    object \n",
            " 5   Start           958 non-null    int64  \n",
            " 6   Total Votes     958 non-null    int64  \n",
            " 7   Average Rating  958 non-null    float64\n",
            "dtypes: float64(1), int64(6), object(1)\n",
            "memory usage: 67.4+ KB\n"
          ]
        }
      ]
    },
    {
      "cell_type": "markdown",
      "source": [
        "We can see that dataset does not contain any null values and data types are now as per or requirement."
      ],
      "metadata": {
        "id": "DDEjqzy4z1jJ"
      }
    },
    {
      "cell_type": "code",
      "source": [
        "op.describe()"
      ],
      "metadata": {
        "colab": {
          "base_uri": "https://localhost:8080/",
          "height": 300
        },
        "id": "faqQyLYhtr2g",
        "outputId": "2a6508a8-5dab-4d4b-b4fe-89448ee20861"
      },
      "execution_count": null,
      "outputs": [
        {
          "output_type": "execute_result",
          "data": {
            "text/html": [
              "\n",
              "  <div id=\"df-83cda992-8399-444e-9195-f3c1f31178d8\">\n",
              "    <div class=\"colab-df-container\">\n",
              "      <div>\n",
              "<style scoped>\n",
              "    .dataframe tbody tr th:only-of-type {\n",
              "        vertical-align: middle;\n",
              "    }\n",
              "\n",
              "    .dataframe tbody tr th {\n",
              "        vertical-align: top;\n",
              "    }\n",
              "\n",
              "    .dataframe thead th {\n",
              "        text-align: right;\n",
              "    }\n",
              "</style>\n",
              "<table border=\"1\" class=\"dataframe\">\n",
              "  <thead>\n",
              "    <tr style=\"text-align: right;\">\n",
              "      <th></th>\n",
              "      <th>Rank</th>\n",
              "      <th>Trend</th>\n",
              "      <th>Season</th>\n",
              "      <th>Episode</th>\n",
              "      <th>Start</th>\n",
              "      <th>Total Votes</th>\n",
              "      <th>Average Rating</th>\n",
              "    </tr>\n",
              "  </thead>\n",
              "  <tbody>\n",
              "    <tr>\n",
              "      <th>count</th>\n",
              "      <td>958.000000</td>\n",
              "      <td>958.000000</td>\n",
              "      <td>958.0</td>\n",
              "      <td>958.000000</td>\n",
              "      <td>958.000000</td>\n",
              "      <td>958.000000</td>\n",
              "      <td>958.000000</td>\n",
              "    </tr>\n",
              "    <tr>\n",
              "      <th>mean</th>\n",
              "      <td>72371.729645</td>\n",
              "      <td>3.430063</td>\n",
              "      <td>1.0</td>\n",
              "      <td>479.500000</td>\n",
              "      <td>2010.231733</td>\n",
              "      <td>152.927975</td>\n",
              "      <td>7.796555</td>\n",
              "    </tr>\n",
              "    <tr>\n",
              "      <th>std</th>\n",
              "      <td>17346.230558</td>\n",
              "      <td>31.670238</td>\n",
              "      <td>0.0</td>\n",
              "      <td>276.695079</td>\n",
              "      <td>6.049997</td>\n",
              "      <td>108.653063</td>\n",
              "      <td>0.589670</td>\n",
              "    </tr>\n",
              "    <tr>\n",
              "      <th>min</th>\n",
              "      <td>2940.000000</td>\n",
              "      <td>0.000000</td>\n",
              "      <td>1.0</td>\n",
              "      <td>1.000000</td>\n",
              "      <td>1999.000000</td>\n",
              "      <td>70.000000</td>\n",
              "      <td>5.600000</td>\n",
              "    </tr>\n",
              "    <tr>\n",
              "      <th>25%</th>\n",
              "      <td>62088.750000</td>\n",
              "      <td>0.000000</td>\n",
              "      <td>1.0</td>\n",
              "      <td>240.250000</td>\n",
              "      <td>2005.000000</td>\n",
              "      <td>117.000000</td>\n",
              "      <td>7.500000</td>\n",
              "    </tr>\n",
              "    <tr>\n",
              "      <th>50%</th>\n",
              "      <td>74195.500000</td>\n",
              "      <td>1.000000</td>\n",
              "      <td>1.0</td>\n",
              "      <td>479.500000</td>\n",
              "      <td>2010.000000</td>\n",
              "      <td>132.000000</td>\n",
              "      <td>7.800000</td>\n",
              "    </tr>\n",
              "    <tr>\n",
              "      <th>75%</th>\n",
              "      <td>83689.750000</td>\n",
              "      <td>2.000000</td>\n",
              "      <td>1.0</td>\n",
              "      <td>718.750000</td>\n",
              "      <td>2015.000000</td>\n",
              "      <td>157.750000</td>\n",
              "      <td>8.200000</td>\n",
              "    </tr>\n",
              "    <tr>\n",
              "      <th>max</th>\n",
              "      <td>126450.000000</td>\n",
              "      <td>964.000000</td>\n",
              "      <td>1.0</td>\n",
              "      <td>958.000000</td>\n",
              "      <td>2021.000000</td>\n",
              "      <td>2862.000000</td>\n",
              "      <td>9.600000</td>\n",
              "    </tr>\n",
              "  </tbody>\n",
              "</table>\n",
              "</div>\n",
              "      <button class=\"colab-df-convert\" onclick=\"convertToInteractive('df-83cda992-8399-444e-9195-f3c1f31178d8')\"\n",
              "              title=\"Convert this dataframe to an interactive table.\"\n",
              "              style=\"display:none;\">\n",
              "        \n",
              "  <svg xmlns=\"http://www.w3.org/2000/svg\" height=\"24px\"viewBox=\"0 0 24 24\"\n",
              "       width=\"24px\">\n",
              "    <path d=\"M0 0h24v24H0V0z\" fill=\"none\"/>\n",
              "    <path d=\"M18.56 5.44l.94 2.06.94-2.06 2.06-.94-2.06-.94-.94-2.06-.94 2.06-2.06.94zm-11 1L8.5 8.5l.94-2.06 2.06-.94-2.06-.94L8.5 2.5l-.94 2.06-2.06.94zm10 10l.94 2.06.94-2.06 2.06-.94-2.06-.94-.94-2.06-.94 2.06-2.06.94z\"/><path d=\"M17.41 7.96l-1.37-1.37c-.4-.4-.92-.59-1.43-.59-.52 0-1.04.2-1.43.59L10.3 9.45l-7.72 7.72c-.78.78-.78 2.05 0 2.83L4 21.41c.39.39.9.59 1.41.59.51 0 1.02-.2 1.41-.59l7.78-7.78 2.81-2.81c.8-.78.8-2.07 0-2.86zM5.41 20L4 18.59l7.72-7.72 1.47 1.35L5.41 20z\"/>\n",
              "  </svg>\n",
              "      </button>\n",
              "      \n",
              "  <style>\n",
              "    .colab-df-container {\n",
              "      display:flex;\n",
              "      flex-wrap:wrap;\n",
              "      gap: 12px;\n",
              "    }\n",
              "\n",
              "    .colab-df-convert {\n",
              "      background-color: #E8F0FE;\n",
              "      border: none;\n",
              "      border-radius: 50%;\n",
              "      cursor: pointer;\n",
              "      display: none;\n",
              "      fill: #1967D2;\n",
              "      height: 32px;\n",
              "      padding: 0 0 0 0;\n",
              "      width: 32px;\n",
              "    }\n",
              "\n",
              "    .colab-df-convert:hover {\n",
              "      background-color: #E2EBFA;\n",
              "      box-shadow: 0px 1px 2px rgba(60, 64, 67, 0.3), 0px 1px 3px 1px rgba(60, 64, 67, 0.15);\n",
              "      fill: #174EA6;\n",
              "    }\n",
              "\n",
              "    [theme=dark] .colab-df-convert {\n",
              "      background-color: #3B4455;\n",
              "      fill: #D2E3FC;\n",
              "    }\n",
              "\n",
              "    [theme=dark] .colab-df-convert:hover {\n",
              "      background-color: #434B5C;\n",
              "      box-shadow: 0px 1px 3px 1px rgba(0, 0, 0, 0.15);\n",
              "      filter: drop-shadow(0px 1px 2px rgba(0, 0, 0, 0.3));\n",
              "      fill: #FFFFFF;\n",
              "    }\n",
              "  </style>\n",
              "\n",
              "      <script>\n",
              "        const buttonEl =\n",
              "          document.querySelector('#df-83cda992-8399-444e-9195-f3c1f31178d8 button.colab-df-convert');\n",
              "        buttonEl.style.display =\n",
              "          google.colab.kernel.accessAllowed ? 'block' : 'none';\n",
              "\n",
              "        async function convertToInteractive(key) {\n",
              "          const element = document.querySelector('#df-83cda992-8399-444e-9195-f3c1f31178d8');\n",
              "          const dataTable =\n",
              "            await google.colab.kernel.invokeFunction('convertToInteractive',\n",
              "                                                     [key], {});\n",
              "          if (!dataTable) return;\n",
              "\n",
              "          const docLinkHtml = 'Like what you see? Visit the ' +\n",
              "            '<a target=\"_blank\" href=https://colab.research.google.com/notebooks/data_table.ipynb>data table notebook</a>'\n",
              "            + ' to learn more about interactive tables.';\n",
              "          element.innerHTML = '';\n",
              "          dataTable['output_type'] = 'display_data';\n",
              "          await google.colab.output.renderOutput(dataTable, element);\n",
              "          const docLink = document.createElement('div');\n",
              "          docLink.innerHTML = docLinkHtml;\n",
              "          element.appendChild(docLink);\n",
              "        }\n",
              "      </script>\n",
              "    </div>\n",
              "  </div>\n",
              "  "
            ],
            "text/plain": [
              "                Rank       Trend  ...  Total Votes  Average Rating\n",
              "count     958.000000  958.000000  ...   958.000000      958.000000\n",
              "mean    72371.729645    3.430063  ...   152.927975        7.796555\n",
              "std     17346.230558   31.670238  ...   108.653063        0.589670\n",
              "min      2940.000000    0.000000  ...    70.000000        5.600000\n",
              "25%     62088.750000    0.000000  ...   117.000000        7.500000\n",
              "50%     74195.500000    1.000000  ...   132.000000        7.800000\n",
              "75%     83689.750000    2.000000  ...   157.750000        8.200000\n",
              "max    126450.000000  964.000000  ...  2862.000000        9.600000\n",
              "\n",
              "[8 rows x 7 columns]"
            ]
          },
          "metadata": {},
          "execution_count": 104
        }
      ]
    },
    {
      "cell_type": "markdown",
      "source": [
        "This steps give further insight about our dataset."
      ],
      "metadata": {
        "id": "LEAAdTrO0ZZV"
      }
    },
    {
      "cell_type": "markdown",
      "source": [
        "Now let's see what are top 5 episodes rating wise"
      ],
      "metadata": {
        "id": "h7m1hKqt0jfi"
      }
    },
    {
      "cell_type": "code",
      "source": [
        "op.sort_values(by=['Average Rating'], ascending=False).head()"
      ],
      "metadata": {
        "colab": {
          "base_uri": "https://localhost:8080/",
          "height": 206
        },
        "id": "DiAc8LWwlgDz",
        "outputId": "7dd6fa01-d75e-4aef-d9de-97ef08d0939b"
      },
      "execution_count": null,
      "outputs": [
        {
          "output_type": "execute_result",
          "data": {
            "text/html": [
              "\n",
              "  <div id=\"df-6dc0c9d0-628e-474f-9f2c-91a2d92ff6f8\">\n",
              "    <div class=\"colab-df-container\">\n",
              "      <div>\n",
              "<style scoped>\n",
              "    .dataframe tbody tr th:only-of-type {\n",
              "        vertical-align: middle;\n",
              "    }\n",
              "\n",
              "    .dataframe tbody tr th {\n",
              "        vertical-align: top;\n",
              "    }\n",
              "\n",
              "    .dataframe thead th {\n",
              "        text-align: right;\n",
              "    }\n",
              "</style>\n",
              "<table border=\"1\" class=\"dataframe\">\n",
              "  <thead>\n",
              "    <tr style=\"text-align: right;\">\n",
              "      <th></th>\n",
              "      <th>Rank</th>\n",
              "      <th>Trend</th>\n",
              "      <th>Season</th>\n",
              "      <th>Episode</th>\n",
              "      <th>Name</th>\n",
              "      <th>Start</th>\n",
              "      <th>Total Votes</th>\n",
              "      <th>Average Rating</th>\n",
              "    </tr>\n",
              "  </thead>\n",
              "  <tbody>\n",
              "    <tr>\n",
              "      <th>807</th>\n",
              "      <td>18272</td>\n",
              "      <td>58</td>\n",
              "      <td>1</td>\n",
              "      <td>808</td>\n",
              "      <td>Kanashiki Kettou: Luffy tai Sanji (Kouhen)</td>\n",
              "      <td>2017</td>\n",
              "      <td>571</td>\n",
              "      <td>9.6</td>\n",
              "    </tr>\n",
              "    <tr>\n",
              "      <th>869</th>\n",
              "      <td>15729</td>\n",
              "      <td>80</td>\n",
              "      <td>1</td>\n",
              "      <td>870</td>\n",
              "      <td>A Fist of Divine Speed! Another Gear Four Appl...</td>\n",
              "      <td>2019</td>\n",
              "      <td>683</td>\n",
              "      <td>9.5</td>\n",
              "    </tr>\n",
              "    <tr>\n",
              "      <th>957</th>\n",
              "      <td>14751</td>\n",
              "      <td>0</td>\n",
              "      <td>1</td>\n",
              "      <td>958</td>\n",
              "      <td>&amp;quot;The Legendary Battle! Garp and Roger&amp;quot;</td>\n",
              "      <td>2021</td>\n",
              "      <td>746</td>\n",
              "      <td>9.4</td>\n",
              "    </tr>\n",
              "    <tr>\n",
              "      <th>484</th>\n",
              "      <td>27093</td>\n",
              "      <td>37</td>\n",
              "      <td>1</td>\n",
              "      <td>485</td>\n",
              "      <td>Kejime o Tsukeru: Shirohige vs Kurohige Kaizok...</td>\n",
              "      <td>2011</td>\n",
              "      <td>370</td>\n",
              "      <td>9.3</td>\n",
              "    </tr>\n",
              "    <tr>\n",
              "      <th>482</th>\n",
              "      <td>20664</td>\n",
              "      <td>58</td>\n",
              "      <td>1</td>\n",
              "      <td>483</td>\n",
              "      <td>Kotae o Sagashite: Hiken Ace Senjou ni Shisu</td>\n",
              "      <td>2011</td>\n",
              "      <td>524</td>\n",
              "      <td>9.3</td>\n",
              "    </tr>\n",
              "  </tbody>\n",
              "</table>\n",
              "</div>\n",
              "      <button class=\"colab-df-convert\" onclick=\"convertToInteractive('df-6dc0c9d0-628e-474f-9f2c-91a2d92ff6f8')\"\n",
              "              title=\"Convert this dataframe to an interactive table.\"\n",
              "              style=\"display:none;\">\n",
              "        \n",
              "  <svg xmlns=\"http://www.w3.org/2000/svg\" height=\"24px\"viewBox=\"0 0 24 24\"\n",
              "       width=\"24px\">\n",
              "    <path d=\"M0 0h24v24H0V0z\" fill=\"none\"/>\n",
              "    <path d=\"M18.56 5.44l.94 2.06.94-2.06 2.06-.94-2.06-.94-.94-2.06-.94 2.06-2.06.94zm-11 1L8.5 8.5l.94-2.06 2.06-.94-2.06-.94L8.5 2.5l-.94 2.06-2.06.94zm10 10l.94 2.06.94-2.06 2.06-.94-2.06-.94-.94-2.06-.94 2.06-2.06.94z\"/><path d=\"M17.41 7.96l-1.37-1.37c-.4-.4-.92-.59-1.43-.59-.52 0-1.04.2-1.43.59L10.3 9.45l-7.72 7.72c-.78.78-.78 2.05 0 2.83L4 21.41c.39.39.9.59 1.41.59.51 0 1.02-.2 1.41-.59l7.78-7.78 2.81-2.81c.8-.78.8-2.07 0-2.86zM5.41 20L4 18.59l7.72-7.72 1.47 1.35L5.41 20z\"/>\n",
              "  </svg>\n",
              "      </button>\n",
              "      \n",
              "  <style>\n",
              "    .colab-df-container {\n",
              "      display:flex;\n",
              "      flex-wrap:wrap;\n",
              "      gap: 12px;\n",
              "    }\n",
              "\n",
              "    .colab-df-convert {\n",
              "      background-color: #E8F0FE;\n",
              "      border: none;\n",
              "      border-radius: 50%;\n",
              "      cursor: pointer;\n",
              "      display: none;\n",
              "      fill: #1967D2;\n",
              "      height: 32px;\n",
              "      padding: 0 0 0 0;\n",
              "      width: 32px;\n",
              "    }\n",
              "\n",
              "    .colab-df-convert:hover {\n",
              "      background-color: #E2EBFA;\n",
              "      box-shadow: 0px 1px 2px rgba(60, 64, 67, 0.3), 0px 1px 3px 1px rgba(60, 64, 67, 0.15);\n",
              "      fill: #174EA6;\n",
              "    }\n",
              "\n",
              "    [theme=dark] .colab-df-convert {\n",
              "      background-color: #3B4455;\n",
              "      fill: #D2E3FC;\n",
              "    }\n",
              "\n",
              "    [theme=dark] .colab-df-convert:hover {\n",
              "      background-color: #434B5C;\n",
              "      box-shadow: 0px 1px 3px 1px rgba(0, 0, 0, 0.15);\n",
              "      filter: drop-shadow(0px 1px 2px rgba(0, 0, 0, 0.3));\n",
              "      fill: #FFFFFF;\n",
              "    }\n",
              "  </style>\n",
              "\n",
              "      <script>\n",
              "        const buttonEl =\n",
              "          document.querySelector('#df-6dc0c9d0-628e-474f-9f2c-91a2d92ff6f8 button.colab-df-convert');\n",
              "        buttonEl.style.display =\n",
              "          google.colab.kernel.accessAllowed ? 'block' : 'none';\n",
              "\n",
              "        async function convertToInteractive(key) {\n",
              "          const element = document.querySelector('#df-6dc0c9d0-628e-474f-9f2c-91a2d92ff6f8');\n",
              "          const dataTable =\n",
              "            await google.colab.kernel.invokeFunction('convertToInteractive',\n",
              "                                                     [key], {});\n",
              "          if (!dataTable) return;\n",
              "\n",
              "          const docLinkHtml = 'Like what you see? Visit the ' +\n",
              "            '<a target=\"_blank\" href=https://colab.research.google.com/notebooks/data_table.ipynb>data table notebook</a>'\n",
              "            + ' to learn more about interactive tables.';\n",
              "          element.innerHTML = '';\n",
              "          dataTable['output_type'] = 'display_data';\n",
              "          await google.colab.output.renderOutput(dataTable, element);\n",
              "          const docLink = document.createElement('div');\n",
              "          docLink.innerHTML = docLinkHtml;\n",
              "          element.appendChild(docLink);\n",
              "        }\n",
              "      </script>\n",
              "    </div>\n",
              "  </div>\n",
              "  "
            ],
            "text/plain": [
              "      Rank  Trend  Season  ...  Start Total Votes  Average Rating\n",
              "807  18272     58       1  ...   2017         571             9.6\n",
              "869  15729     80       1  ...   2019         683             9.5\n",
              "957  14751      0       1  ...   2021         746             9.4\n",
              "484  27093     37       1  ...   2011         370             9.3\n",
              "482  20664     58       1  ...   2011         524             9.3\n",
              "\n",
              "[5 rows x 8 columns]"
            ]
          },
          "metadata": {},
          "execution_count": 105
        }
      ]
    },
    {
      "cell_type": "markdown",
      "source": [
        "##Univariate Analysis"
      ],
      "metadata": {
        "id": "F_cDCw4EwNCw"
      }
    },
    {
      "cell_type": "code",
      "source": [
        "plt.figure(figsize=(10,6))\n",
        "sns.set_style(\"whitegrid\")\n",
        "plt.hist(op['Average Rating'])\n",
        "plt.title('Histogram of Average Rating')\n",
        "plt.xlabel(\"Rating\")\n",
        "plt.show()"
      ],
      "metadata": {
        "colab": {
          "base_uri": "https://localhost:8080/",
          "height": 404
        },
        "id": "Prt3FpWetxNf",
        "outputId": "c050cdd9-fd96-45ed-e47d-741a49dce54f"
      },
      "execution_count": null,
      "outputs": [
        {
          "output_type": "display_data",
          "data": {
            "image/png": "[encoded data removed]",
            "text/plain": [
              "<Figure size 720x432 with 1 Axes>"
            ]
          },
          "metadata": {
            "needs_background": "light"
          }
        }
      ]
    },
    {
      "cell_type": "markdown",
      "source": [
        "The ratings vary from 5.5 to 9.6 range. Majaority of rating are above 7.5. Which is good sign that shows reception is positive."
      ],
      "metadata": {
        "id": "GASIERqB1bWn"
      }
    },
    {
      "cell_type": "code",
      "source": [
        "plt.figure(figsize=(10,6))\n",
        "sns.histplot(op.Rank)\n",
        "plt.title('Histogram of Rank')\n",
        "plt.xlabel(\"Rank\")\n",
        "plt.show()\n"
      ],
      "metadata": {
        "colab": {
          "base_uri": "https://localhost:8080/",
          "height": 404
        },
        "id": "_Yen7xnG0bzJ",
        "outputId": "63ee0ce7-c61c-47a0-a9c7-fec2fbda72bc"
      },
      "execution_count": null,
      "outputs": [
        {
          "output_type": "display_data",
          "data": {
            "image/png": "[encoded data removed]",
            "text/plain": [
              "<Figure size 720x432 with 1 Axes>"
            ]
          },
          "metadata": {}
        }
      ]
    },
    {
      "cell_type": "markdown",
      "source": [
        "The minimum rank is below 20000 and mximum above 120000. The majority of rank for episode is above 60000. "
      ],
      "metadata": {
        "id": "O8Ek0r311_jI"
      }
    },
    {
      "cell_type": "code",
      "source": [
        "plt.figure(figsize=(10,8))\n",
        "sns.histplot(op['Total Votes'])\n",
        "plt.title('Histogram of Total Votes')\n",
        "plt.xlabel(\"Total Votes\")\n",
        "plt.show()\n"
      ],
      "metadata": {
        "colab": {
          "base_uri": "https://localhost:8080/",
          "height": 513
        },
        "id": "wvpQCAyo3S2K",
        "outputId": "b9251a05-4f2d-441f-90ac-c9502a90970a"
      },
      "execution_count": null,
      "outputs": [
        {
          "output_type": "display_data",
          "data": {
            "image/png": "[encoded data removed]",
            "text/plain": [
              "<Figure size 720x576 with 1 Axes>"
            ]
          },
          "metadata": {}
        }
      ]
    },
    {
      "cell_type": "markdown",
      "source": [
        "The mostly votes recieved are below 1000. "
      ],
      "metadata": {
        "id": "0EAnw41g2W18"
      }
    },
    {
      "cell_type": "code",
      "source": [
        "plt.figure(figsize=(10,6))\n",
        "sns.scatterplot(data=op, x='Episode', y='Average Rating',hue='Start')\n",
        "plt.title('Episode Vs Average Rating')\n",
        "plt.xlabel(\"Episode\")\n",
        "plt.ylabel(\"Rating\")\n",
        "plt.show()"
      ],
      "metadata": {
        "colab": {
          "base_uri": "https://localhost:8080/",
          "height": 404
        },
        "id": "v3qEp0Pk39OX",
        "outputId": "1db98a28-57f2-4843-a1c0-98ca8dff549d"
      },
      "execution_count": null,
      "outputs": [
        {
          "output_type": "display_data",
          "data": {
            "image/png": "[encoded data removed]",
            "text/plain": [
              "<Figure size 720x432 with 1 Axes>"
            ]
          },
          "metadata": {}
        }
      ]
    },
    {
      "cell_type": "markdown",
      "source": [
        "Ratings over episodes are stable. Maximum data is over 7 rating."
      ],
      "metadata": {
        "id": "ApiQMogz2r3s"
      }
    },
    {
      "cell_type": "code",
      "source": [
        "plt.figure(figsize=(15,6))\n",
        "sns.countplot(x=op['Average Rating'].astype('str').sort_values())\n",
        "plt.title('Count of Episode vs Average Rating')\n",
        "plt.xlabel(\"Rating\")\n",
        "plt.ylabel(\"Number of episodes\")\n",
        "plt.show()\n"
      ],
      "metadata": {
        "colab": {
          "base_uri": "https://localhost:8080/",
          "height": 404
        },
        "id": "TD2Fhsak5krl",
        "outputId": "c70d9e63-9212-43b8-d913-81412e0622e7"
      },
      "execution_count": null,
      "outputs": [
        {
          "output_type": "display_data",
          "data": {
            "image/png": "[encoded data removed]",
            "text/plain": [
              "<Figure size 1080x432 with 1 Axes>"
            ]
          },
          "metadata": {}
        }
      ]
    },
    {
      "cell_type": "markdown",
      "source": [
        "In this plot we can see 7.6 and 7.7 is most occured rating with count over 80 episodes. Minimum rating is 5.6 and maximum is 9.6."
      ],
      "metadata": {
        "id": "Zt-83bLC3Eya"
      }
    },
    {
      "cell_type": "code",
      "source": [
        "plt.figure(figsize=(10,6))\n",
        "sns.countplot(x=op['Trend'].astype('str').sort_values())\n",
        "plt.title('Count of episodes Vs Trend Rank')\n",
        "plt.xlabel(\"Trend Rank\")\n",
        "plt.ylabel(\"Number of Episodes\")\n",
        "plt.show()\n"
      ],
      "metadata": {
        "colab": {
          "base_uri": "https://localhost:8080/",
          "height": 404
        },
        "id": "nCuWH91x6LeB",
        "outputId": "801940dc-45bb-46f5-b0f8-99973ccf96d9"
      },
      "execution_count": null,
      "outputs": [
        {
          "output_type": "display_data",
          "data": {
            "image/png": "[encoded data removed]",
            "text/plain": [
              "<Figure size 720x432 with 1 Axes>"
            ]
          },
          "metadata": {}
        }
      ]
    },
    {
      "cell_type": "markdown",
      "source": [
        "Ove 250 episodes have reached number 1 trending spot and for over 350 episode we have no data."
      ],
      "metadata": {
        "id": "IF42JrhT3kIq"
      }
    },
    {
      "cell_type": "code",
      "source": [
        "plt.figure(figsize=(10,6))\n",
        "sns.countplot(x=op['Start'].astype('str').sort_values())\n",
        "plt.title('Number of episodes Vs Year')\n",
        "plt.xlabel(\"Year\")\n",
        "plt.ylabel(\"Number of Episodes\")\n",
        "plt.show()\n"
      ],
      "metadata": {
        "colab": {
          "base_uri": "https://localhost:8080/",
          "height": 404
        },
        "id": "2wJt5wF64skI",
        "outputId": "c64cb115-fe0f-4fa8-db7a-76f26d1aa6d2"
      },
      "execution_count": null,
      "outputs": [
        {
          "output_type": "display_data",
          "data": {
            "image/png": "[encoded data removed]",
            "text/plain": [
              "<Figure size 720x432 with 1 Axes>"
            ]
          },
          "metadata": {}
        }
      ]
    },
    {
      "cell_type": "markdown",
      "source": [
        "We can see that yearly above 35 episode are released and in 2014 One Piece realesed 50 episode. Episode count in 1999 and 2021 is less than 10."
      ],
      "metadata": {
        "id": "xGwhcAMx49yp"
      }
    },
    {
      "cell_type": "code",
      "source": [
        "plt.figure(figsize=(15,6))\n",
        "sns.barplot(data=op, x='Start', y='Average Rating')\n",
        "plt.ylim(top=10)\n",
        "plt.title('Year Vs Average rating')\n",
        "plt.xlabel(\"Year\")\n",
        "plt.ylabel(\"Average Rating\")\n",
        "plt.show()\n"
      ],
      "metadata": {
        "colab": {
          "base_uri": "https://localhost:8080/",
          "height": 404
        },
        "id": "NvjsPKDmonnL",
        "outputId": "8bbf6e31-1552-47b2-8d6a-00be032a7756"
      },
      "execution_count": null,
      "outputs": [
        {
          "output_type": "display_data",
          "data": {
            "image/png": "[encoded data removed]",
            "text/plain": [
              "<Figure size 1080x432 with 1 Axes>"
            ]
          },
          "metadata": {}
        }
      ]
    },
    {
      "cell_type": "markdown",
      "source": [
        "In year wise avarage rating we can see that overall value is stayed constant and 2021 year shown a good jump in rating. But number episode are very less to conclude if people are liking it more in 2021."
      ],
      "metadata": {
        "id": "sy_0uc3b4KNs"
      }
    },
    {
      "cell_type": "code",
      "source": [
        "plt.figure(figsize=(15,6))\n",
        "sns.boxplot(data=op, x='Start', y='Average Rating')\n",
        "plt.title('Box plot of Year Vs Average Rating')\n",
        "plt.xlabel(\"Year\")\n",
        "plt.ylabel(\"Average Rating\")\n",
        "plt.show()\n"
      ],
      "metadata": {
        "colab": {
          "base_uri": "https://localhost:8080/",
          "height": 404
        },
        "id": "CWB32vg1pNAo",
        "outputId": "b8e46c51-9a78-46e7-94c3-e80c77317461"
      },
      "execution_count": null,
      "outputs": [
        {
          "output_type": "display_data",
          "data": {
            "image/png": "[encoded data removed]",
            "text/plain": [
              "<Figure size 1080x432 with 1 Axes>"
            ]
          },
          "metadata": {}
        }
      ]
    },
    {
      "cell_type": "markdown",
      "source": [
        "The boxplot analysis over release year confirms our previous observations. Year 2007 and 2019 shows large range of values  than othe years."
      ],
      "metadata": {
        "id": "NkiboGG-5XEo"
      }
    },
    {
      "cell_type": "markdown",
      "source": [
        "Conclusions:\n",
        "\n",
        "1)Dataset contains data for 958 episode released for time frame of 1999-2021.\n",
        "2)Average ratings are above 7.5.\n",
        "3)Average votes recieved are below 1000 per episode.\n",
        "4) 266 episode have trended at number 1.\n",
        "5)One Piece maintains very good rating over all episode and over the years it reamins constant."
      ],
      "metadata": {
        "id": "PxGfh2fj6AxH"
      }
    }
  ]
}